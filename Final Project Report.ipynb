{
 "cells": [
  {
   "cell_type": "markdown",
   "id": "ea290682-0bff-4676-8233-f9985f3ea2f7",
   "metadata": {},
   "source": [
    "## Predicting Heart Disease\n"
   ]
  },
  {
   "cell_type": "markdown",
   "id": "d7ef840d-e04b-46ca-b85b-a982e30ace1c",
   "metadata": {},
   "source": [
    "### Introduction:"
   ]
  },
  {
   "cell_type": "markdown",
   "id": "53e808bd-40dc-4003-b9ef-04add0e1de34",
   "metadata": {
    "tags": []
   },
   "source": [
    "Heart disease is an umbrella term for a vast range of conditions that affect the heart. While there are many leading causes that can contribute to higher risks to heart disease, unhealthy lifestyle choices and genetics often play a large role. In Canada, heart disease is the second leading cause of death and a leading cause of hospitalization (Government of Canada, 2022). This statistic leads us to wonder and study whether a predictive model can determine the presence of heart disease in a patient. Therefore, based on a data set from 1988 consisting of 4 databases from, Cleveland, Hungary, Switzerland, and Long Beach V, trends relating to heart disease will be used to predict the presence of the disease in individuals. "
   ]
  },
  {
   "cell_type": "markdown",
   "id": "cd46d442-f30b-4264-b611-3ea0b2963f4f",
   "metadata": {},
   "source": [
    "This data was retrieved from the `heart_2.csv` file in the Heart Disease `project_data` folder, \n",
    "and was initially obtained from Kaggle: https://www.kaggle.com/datasets/johnsmith88/heart-disease-datasets\n"
   ]
  },
  {
   "cell_type": "markdown",
   "id": "13287365-2a1f-4ab2-b50e-0acc615eb6ad",
   "metadata": {},
   "source": [
    "By observing the health reports of the patients in the data set, the five of the most influential factors in predicting the detection of heart disease in patients will be determined. From there, we will further investigate those variables further to determine the most significant of the five factors to include in a model to predict the presence of heart disease."
   ]
  },
  {
   "cell_type": "markdown",
   "id": "1920e7bf-c388-45a9-8248-b23888be8d62",
   "metadata": {},
   "source": [
    "This will lead us to the question: **Can heart disease in a patient be predicted prior to diagnosis based upon the most influential factors within their health report?**"
   ]
  },
  {
   "cell_type": "markdown",
   "id": "5e9534bf-6f2d-41b5-8c3c-5798db78845f",
   "metadata": {},
   "source": [
    "The goal of this project is to create a classification model that can accurately predict the presence of heart disease based on the most influential factors we determine. "
   ]
  },
  {
   "cell_type": "markdown",
   "id": "1350c0f0-7c77-45b8-b669-54d3c97e3c3c",
   "metadata": {},
   "source": [
    "### Methods and Results:"
   ]
  },
  {
   "cell_type": "markdown",
   "id": "975fcc8e-7e81-42b3-a700-163f7836769e",
   "metadata": {},
   "source": [
    "Our general goal is to predict the `target` class by creating a K-NN Classification model with the optimal predictor variables that we will choose. Here are the steps that we will be taking to do this:\n"
   ]
  },
  {
   "cell_type": "markdown",
   "id": "88843be3-2c54-44b0-bc8c-7ccc0615a68d",
   "metadata": {},
   "source": [
    "1. Read-in and tidy the data set: Make sure that the tidy data set criteria are all fulfilled.\n",
    "2. Train/Test split: Split the data set into training and testing sets.\n",
    "3. Analyze and summarize our training set: We will visualize the training data through the appropriate plots to see how the variables fluctuate and determine their relationship with the target variable.\n",
    "4. Analyze predictor variables and select the ones of significance: We will create multiple recipes with different predictor variable combinations, and then analyze the resulting accuracy values from the cross-validations of each model to choose the most accurate one.\n",
    "5. Find the optimal *k* value and build our final model.\n",
    "6. Evaluation and Conclusion"
   ]
  },
  {
   "cell_type": "markdown",
   "id": "f51141a3-3be1-42bc-9a8e-d2154f00adf2",
   "metadata": {},
   "source": [
    "### 1. Reading and Wrangling the Dataset\n",
    "To begin our analysis we first loaded in the libraries that we would be using. Then, using `read_csv`, we first read in our dataset to better explore the variables and their relationship to the `target` variable, indicating the absence of heart disease, 0, and the presence of heart disease, 1. We then selected `age`, `exang`, `chol`, `thalach`, and `trestbps` as the variables we wanted to investigate. To check if there were missing values in the data set the `sum(is.na())` function was used."
   ]
  },
  {
   "cell_type": "code",
   "execution_count": null,
   "id": "f2651507-20ef-42b4-bc01-ef30678e8764",
   "metadata": {},
   "outputs": [],
   "source": [
    "library(tidyverse)\n",
    "library(repr)\n",
    "library(dplyr)\n",
    "library(tidymodels)\n",
    "library(ggplot2)\n",
    "library(gridExtra)\n",
    "library(GGally)\n",
    "\n",
    "\n",
    "url = 'https://raw.githubusercontent.com/jennywyzhao/dsci-group-project-002-14/main/project_data/heart.csv'\n",
    "download.file(url, destfile = \"project_data/heart_2.csv\")\n",
    "heart_data <- read_csv(\"project_data/heart_2.csv\")\n",
    "\n",
    "print(\"Table 1.1 Heart Data from Kaggle\")\n",
    "slice(heart_data, 1:5)\n",
    "\n",
    "heart_var <- heart_data |>\n",
    "    select(age, exang, chol, thalach, trestbps, target)\n",
    "\n",
    "print(\"Table 2.1 Selected Variables for Investigation\")\n",
    "\n",
    "slice(heart_var, 1:5)\n",
    "sum(is.na(heart_data))"
   ]
  },
  {
   "cell_type": "markdown",
   "id": "4351203e-fae4-4755-a661-3074cec765f5",
   "metadata": {},
   "source": [
    "### 2. Splitting the Data\n",
    "From here, we split the data with the selected variables into a training set with 75% of the data, and a testing set with 25% of the data. To make sure the data is reproducible, we will be using 3456 as our seed number."
   ]
  },
  {
   "cell_type": "code",
   "execution_count": null,
   "id": "3fef127d-2d32-42f6-938a-0b55d7985b25",
   "metadata": {},
   "outputs": [],
   "source": [
    "set.seed(3456)\n",
    "\n",
    "heart_split <- initial_split(heart_var, prop = 0.75, strata = target)  \n",
    "heart_train <- training(heart_split)   \n",
    "heart_test <- testing(heart_split)"
   ]
  },
  {
   "cell_type": "markdown",
   "id": "9265b72d-d158-4985-bf55-841f7473d483",
   "metadata": {
    "tags": []
   },
   "source": [
    "### 3. Analyzing and Summarizing the Training Data\n",
    "\n",
    "As our total dataset contains 1025 instances, and since our training set is 75% of that, there will be 768 instances in the training set."
   ]
  },
  {
   "cell_type": "code",
   "execution_count": null,
   "id": "05803485-38c4-4202-8404-e015a80b8a80",
   "metadata": {},
   "outputs": [],
   "source": [
    "n_for_target <- heart_train |>\n",
    "    group_by(target) |>\n",
    "    summarize(n = n())\n",
    "\n",
    "print(\"Table 3.1: Distribution of Diagnoses\")\n",
    "n_for_target"
   ]
  },
  {
   "cell_type": "markdown",
   "id": "89679a9f-ecd8-467c-a6af-0e3e6c6f0256",
   "metadata": {},
   "source": [
    "By using `group_by()` with num as its parameter, and `summarize()` with `n = n()` as its parameter, a tibble that contains the number of instances for each `target` type is created.\n",
    "\n",
    "In `Table 3.1`, the ratio between the presence of heart disease (`target` = 1) vs. without heart disease (`target` = 0) is found to be nearly 1:1. "
   ]
  },
  {
   "cell_type": "code",
   "execution_count": null,
   "id": "8e244e4f-b99a-4576-8bf6-359edb2b90f3",
   "metadata": {},
   "outputs": [],
   "source": [
    "mean_per_diagnosis <- heart_train |>\n",
    "    group_by(target) |>\n",
    "    summarize(mean_age = mean(age), mean_exang = mean(exang), mean_chol = mean(chol), mean_thalach = mean(thalach), mean_trestbps = mean(trestbps))\n",
    "print(\"Table 3.2: Mean of Variables Across Diagnoses\")\n",
    "mean_per_diagnosis"
   ]
  },
  {
   "cell_type": "markdown",
   "id": "ad5c1db8-31c6-4a85-a70f-a2039ebc2a8f",
   "metadata": {},
   "source": [
    "Again, `group_by()` and `summarize()` are used to group the data by their `target` diagnoses, and then to find the means of all the data within those subgroups.\n",
    "\n",
    "* We can see that in Table 3.2, patients with a `target` = 0 are on average, only around 4 years older than patients who have `target` = 1.\n",
    "* Angina induced by exercise (`exang`), seems to be in a negative relationship with the diagnoses.\n",
    "* The maximum heart rate of a patient (`thalach`) is higher for patients without heart disease compared to patients who do. This could mean that thalach could help determine if a patient's `target` value is 1 (has heart disease). \n",
    "* It seems that many of the values across diagnoses seem to have similar or slightly different mean values, which may be a point of concern for our model."
   ]
  },
  {
   "cell_type": "markdown",
   "id": "0161e224-8e5e-4db4-9230-7ca2f41812d5",
   "metadata": {},
   "source": [
    "#### Visualizing the predictor variables\n",
    "To better understand the relationships between the variables, we chose to use box plots and stacked bar graphs. In this way, we can see the mean values for variables alongside the rang of values where there is a presence of heart disease, when `target` is 1, and when there is no heart disease, when the `target` is 0. Since the `target` variable only has two possible values, we decided to plot `target` on the x-axis."
   ]
  },
  {
   "cell_type": "code",
   "execution_count": null,
   "id": "99c81445-944c-4189-9e47-331d78f79f33",
   "metadata": {},
   "outputs": [],
   "source": [
    "options(repr.plot.width = 30, repr.plot.height = 10)\n",
    "chol_plot <- ggplot(heart_train, \n",
    "     aes(y = chol, \n",
    "           x = as.factor(target))) +\n",
    "     geom_boxplot(fill = \"slateblue\", alpha = 0.2)+\n",
    "     labs(x = \"Presence of Heart Disease (0 = no, 1 = yes)\", y = \"Cholesteral Level\" )+\n",
    "     theme(text = element_text(size = 20))+\n",
    "     ggtitle(\"Serum Cholesterol Level vs. Presence of Heart Disease\")\n",
    "\n",
    "trestbps_plot<- ggplot(heart_train,\n",
    "    aes(y = trestbps,\n",
    "            x = as.factor(target))) +\n",
    "    geom_boxplot(fill = \"red\", alpha = 0.2)+\n",
    "    labs(x=\"Presence of Heart Disease (0 = no, 1 = yes)\", y = \"Resting Blood Pressure\" )+\n",
    "    theme(text = element_text(size = 20))+\n",
    "    ggtitle(\"Resting Heart Blood Pressure vs. Presence of Heart Disease\")\n",
    "\n",
    "       \n",
    "thalach_plot <- ggplot(heart_train,\n",
    "        aes(y = thalach,\n",
    "            x = as.factor(target))) +\n",
    "    geom_boxplot(fill = \"green\", alpha = 0.2)+\n",
    "    labs(x = \"Presence of Heart Disease (0 = no, 1 = yes)\", y = \"Maximum Heart Rate Achieved\" )+\n",
    "    theme(text = element_text(size = 20))+\n",
    "    ggtitle(\"Maximum Heart Rate Achieved vs. Presence of Heart Disease\")\n",
    "\n",
    "print(\"Figure 3.3: Variable Distributions Across Diagnosis\")\n",
    "grid.arrange(chol_plot, trestbps_plot, thalach_plot, ncol = 3)\n",
    "\n",
    "age_plot<- ggplot(heart_train,\n",
    "        aes(y = age,\n",
    "            x = as.factor(target))) +\n",
    "    geom_boxplot(fill = \"purple\", alpha = 0.2)+\n",
    "    labs(x = \"Presence of Heart Disease (0 = no, 1 = yes)\", y = \"Age\" )+\n",
    "    theme(text = element_text(size = 20))+\n",
    "    ggtitle(\"Age vs. Presence of Heart Disease\")\n",
    "\n",
    "exang_plot <- ggplot(heart_train, aes(x = target, fill = as.factor(exang)))+\n",
    "   geom_bar()+\n",
    "   labs(x = \"Presence of Heart Disease (0 = no, 1 = yes)\", y = \"Presence of Exercise Induced Angina\")+\n",
    "   theme(text = element_text(size = 20))+\n",
    "   ggtitle(\"Exercise Induced Angina vs. Presence of Heart Disease\")+\n",
    "  scale_fill_discrete(name = \"Presence of Angina (0 = no, 1 = yes)\")\n",
    "\n",
    "grid.arrange(age_plot, exang_plot, ncol = 2)"
   ]
  },
  {
   "cell_type": "markdown",
   "id": "dc30a027-e4e2-4db8-a879-9578811947d9",
   "metadata": {},
   "source": [
    "Looking at the above plot for serum cholesterol level, it can be seen the mean levels for individuals with heart disease is slightly lower than the mean cholesterol levels for individuals who do not have heart disease. This is slightly surprising as, the general trend found through research is that higher serum cholesterol levels tends to increase risks of developing heart disease. Since the difference is so slight, it does not make sense to include it as a predictor variable for our model.\n",
    "\n",
    "Regarding resting blood pressure, there was not a large difference in the mean values between individuals with heart disease, and those without. From this graph, there is a suggestion that there is not a strong correlation between the presence of heart disease, and high or low resting blood pressure values. Hence, resting blood pressure is likely not a useful predictor variable for our model. In reference to the maximum heart rate achieved, there is a higher mean value for individuals with a presence of heart disease. This is supported by research which suggests that a higher resting heart rate could indicate an increased risk of developing heart disease. Thus, maximum heart rate achieved will likely be useful to include in our model.\n",
    "\n",
    "Referencing the age plot and `Table 3.2`, the mean age value is smaller among the individuals who have heart disease. Since there is a difference between the mean ages of individuals who do and do not have heart disease, we will be using it as a predictor in our model. In general, the risks of heart disease increases as one ages, making this result somewhat unexpected. This result could be due to the fact that individuals who do not have heart disease tending to live longer or, sampling error.\n",
    "\n",
    "Overall, we did not observe that the trends shown by the plot were similar to trends typically found and understood in other research.\n",
    "\n",
    "#### The predictor variables that we will test are: `age`, `thalach`, and `exang`."
   ]
  },
  {
   "cell_type": "markdown",
   "id": "04f54439-c8e4-4d09-be5c-5ccb0d28d25f",
   "metadata": {},
   "source": [
    "### 4. Analyzing and Selecting Predictor Variables\n",
    "\n",
    "To confirm the selection of predictor variables, we will tune models and create distinct recipes for each set of predictor variables, then compare the accuracy of the models.\n",
    "We will set neighbors to `tune()` in our K-NN recipe in combination with 5-fold cross-validation so that each model that we compare will be at its optimal accuracy.\n",
    "Note that *k* values used for the cross-validation will be values from 1 to 50.\n",
    "For now, it does not too significant that the accuracy is maximized (if we have the best *k* value), as we are analyzing how a predictor variable affects the model.\n",
    "The data must also be scaled and centered, as the ranges of variables are different."
   ]
  },
  {
   "cell_type": "code",
   "execution_count": null,
   "id": "3476c0aa-2730-4bed-a07c-d6534f177c8c",
   "metadata": {},
   "outputs": [],
   "source": [
    "heart_vfold <- vfold_cv(heart_train, v = 5, strata = target)\n",
    "\n",
    "gridvals <- tibble(neighbors = seq(1, 50))\n",
    "\n",
    "knn_spec <- nearest_neighbor(weight_func = \"rectangular\", neighbors = tune()) |>\n",
    "  set_engine(\"kknn\") |>\n",
    "  set_mode(\"classification\")"
   ]
  },
  {
   "cell_type": "code",
   "execution_count": null,
   "id": "745862c0-59b7-4dc2-87f7-fe90e89d2f5d",
   "metadata": {},
   "outputs": [],
   "source": [
    "h_recipe <- recipe(target ~ age, heart_train) |>\n",
    "    step_scale(all_predictors()) |>\n",
    "    step_center(all_predictors())\n",
    "\n",
    "h_results <- workflow() |>\n",
    "    add_recipe(h_recipe) |>\n",
    "    add_model(knn_spec) |>\n",
    "    tune_grid(resamples = heart_vfold, grid = gridvals) |>\n",
    "    collect_metrics() |>\n",
    "    filter(.metric == \"accuracy\")\n",
    "\n",
    "h_results_best <- h_results |>\n",
    "    arrange(desc(mean)) |>\n",
    "    slice(1) |>\n",
    "    pull(mean)"
   ]
  },
  {
   "cell_type": "code",
   "execution_count": null,
   "id": "a52bde44-b99c-4908-8eb2-d94803b9e59d",
   "metadata": {},
   "outputs": [],
   "source": [
    "ht_recipe <- recipe (target ~ age + thalach, heart_train) |>\n",
    "    step_scale(all_predictors()) |>\n",
    "    step_center(all_predictors())\n",
    "\n",
    "ht_results <- workflow() |>\n",
    "    add_recipe(ht_recipe) |>\n",
    "    add_model(knn_spec) |>\n",
    "    tune_grid(resamples = heart_vfold, grid = gridvals) |>\n",
    "    collect_metrics() |>\n",
    "    filter(.metric == \"accuracy\")\n",
    "\n",
    "ht_results_best <- ht_results |>\n",
    "    arrange(desc(mean)) |>\n",
    "    slice(1) |>\n",
    "    pull(mean)"
   ]
  },
  {
   "cell_type": "code",
   "execution_count": null,
   "id": "272c1e01-8941-4c6e-8b7a-fc786e823acf",
   "metadata": {},
   "outputs": [],
   "source": [
    "hto_recipe <- recipe (target ~ age + thalach + exang, data = heart_train) |>\n",
    "    step_scale(all_predictors()) |>\n",
    "    step_center(all_predictors())\n",
    "\n",
    "hto_results <- workflow() |>\n",
    "    add_recipe(hto_recipe) |>\n",
    "    add_model(knn_spec) |>\n",
    "    tune_grid(resamples = heart_vfold, grid = gridvals) |>\n",
    "    collect_metrics() |>\n",
    "    filter(.metric == \"accuracy\")\n",
    "\n",
    "hto_results_best <- hto_results |>\n",
    "    arrange(desc(mean)) |>\n",
    "    slice(1) |>\n",
    "    pull(mean)"
   ]
  },
  {
   "cell_type": "code",
   "execution_count": null,
   "id": "e70f2cdc-04b0-497f-8a18-fe716ce4dcf9",
   "metadata": {},
   "outputs": [],
   "source": [
    "model <- c(\"target ~ age\", \"target ~ age + thalach\", \"target ~ age + thalach + exang\")\n",
    "accuracies <- c(h_results_best, ht_results_best, hto_results_best)\n",
    "acc_table <- tibble(`Recipe Input` = character(), Accuracy = numeric()) |>\n",
    "    add_row(`Recipe Input` = model, Accuracy = accuracies)\n",
    "\n",
    "print(\"Table 4.1: Resulting Accurracies of Different Predictor Variables\")\n",
    "acc_table"
   ]
  },
  {
   "cell_type": "markdown",
   "id": "1447e0d4-ae53-40c4-9d68-0b5de7972361",
   "metadata": {},
   "source": [
    "From `Table 4.1`, we can conclude that all three of these predictor variables are meaningful and increase the prediction accuracy. Using just `age`, the prediction accuracy is roughly 62% which, makes `age` a significant predictor variable. With the inclusion of `thalach` and `exang`, the accuracy increases significantly. Knowing this, we can now use the recipe with all three predictor variables to build our model. "
   ]
  },
  {
   "cell_type": "markdown",
   "id": "ef6f4b26-c80c-41a2-815b-ea1e63f8820d",
   "metadata": {},
   "source": [
    "### 5. Finding the Optimal `k` Value and Building the Final Model\n",
    "\n",
    "To begin, new components that need to be updated will be built for the final model. A new set of *k* values will need to be tested. We will thus tune our model with various *k* values, and pick the best one through a visualization. "
   ]
  },
  {
   "cell_type": "code",
   "execution_count": null,
   "id": "3f8e1229-9ffc-4077-9118-26a0a421242c",
   "metadata": {},
   "outputs": [],
   "source": [
    "k_values <- tibble(neighbors = seq(from = 1, to = 100, by = 1))\n",
    "\n",
    "# heart_vfold, hto_recipe, and knn_spec are previously defined\n",
    "patient_results <- workflow() |>\n",
    "    add_recipe(hto_recipe) |>\n",
    "    add_model(knn_spec) |>\n",
    "    tune_grid(resamples = heart_vfold, grid = k_values) |>\n",
    "    collect_metrics() |>\n",
    "    filter(.metric == \"accuracy\")"
   ]
  },
  {
   "cell_type": "code",
   "execution_count": null,
   "id": "92ebc3fb-6be4-4829-9ea1-d2f4d315988f",
   "metadata": {},
   "outputs": [],
   "source": [
    "options(repr.plot.width = 15, repr.plot.height = 8)\n",
    "\n",
    "best_k_y <- patient_results |>\n",
    "    filter(neighbors == 50) |>\n",
    "    pull(mean)\n",
    "\n",
    "k_accuracies_plot <- patient_results |>\n",
    "    ggplot(aes(x = neighbors, y = mean)) +\n",
    "    geom_point() +\n",
    "    geom_line() +\n",
    "    geom_vline(xintercept = 50, colour = \"steelblue\") +\n",
    "    geom_point(aes(x = 50, y = best_k_y), size = 3, colour = \"blue\") +\n",
    "    labs(x = \"K Value\", y = \"5 Average CV Accuracy\") +\n",
    "    ggtitle(\"Figure 5.1: Accuracies Across Different K Values\") +\n",
    "    theme(text = element_text(size = 20)) +\n",
    "    theme(plot.title = element_text(hjust = 0.5))\n",
    "\n",
    "k_accuracies_plot"
   ]
  },
  {
   "cell_type": "markdown",
   "id": "a232a800-8e8e-403b-ab03-e0c2f0b95931",
   "metadata": {},
   "source": [
    "We can see in `Figure 5.1` that at `k = 50`, there is a 3-point maximum plateau. This shows that there is a consistency in the maximum value, which increases the validity of this value. Knowing this, we will choose a value of *k* = 50 for our model."
   ]
  },
  {
   "cell_type": "markdown",
   "id": "4dd49802-fe1e-4da8-b9bd-3e26b06cd93a",
   "metadata": {},
   "source": [
    "#### Building the Final Model\n",
    "\n",
    "Using our newly selected *k* value, we will build a new specification model as well as a new workflow."
   ]
  },
  {
   "cell_type": "code",
   "execution_count": null,
   "id": "4d37f3d4-3173-404a-98a2-77a89e63708c",
   "metadata": {},
   "outputs": [],
   "source": [
    "best_knn_spec <- nearest_neighbor(weight_func = \"rectangular\", neighbors = 80) |>\n",
    "  set_engine(\"kknn\") |>\n",
    "  set_mode(\"classification\")\n",
    "\n",
    "# hto_recipe is previously defined\n",
    "patient_fit <- workflow() |>\n",
    "    add_recipe(hto_recipe) |>\n",
    "    add_model(best_knn_spec) |>\n",
    "    fit(data = heart_train)\n",
    "\n",
    "print(\"Figure 5.2: Final Classification Model\")\n",
    "patient_fit"
   ]
  },
  {
   "cell_type": "markdown",
   "id": "36c9a07a-5497-4615-9e87-60c0fe267705",
   "metadata": {},
   "source": [
    "#### 6. Model Evaluation and Conclusion\n",
    "\n",
    "Now, by fitting our testing data set (`heart_test`) with `patient fit`, we will evaluate the model that has been created. "
   ]
  },
  {
   "cell_type": "code",
   "execution_count": null,
   "id": "aaa0cf49-47ae-434b-82ec-7664b949c710",
   "metadata": {},
   "outputs": [],
   "source": [
    "patient_predictions <- predict(patient_fit, heart_test) |>\n",
    "    bind_cols(heart_test)\n",
    "patient_acc <- patient_predictions |>\n",
    "    metrics(truth = target, estimate = .pred_class) |>\n",
    "    select(.metric, .estimate) |>\n",
    "    head(1)\n",
    "\n",
    "print(\"Table 6.1: Model Accuracy on the Testing Set\")\n",
    "patient_acc"
   ]
  },
  {
   "cell_type": "markdown",
   "id": "bd6ec068-0487-415f-be03-8b3b136255a7",
   "metadata": {},
   "source": [
    "Here, we can see the final model's prediction accuracy is about 75.5% which, makes it decently reliable for prediction the heart disease in patients."
   ]
  },
  {
   "cell_type": "markdown",
   "id": "898e611d-b64e-4c47-bdad-27bbbb989902",
   "metadata": {},
   "source": [
    "### Discussion:\n",
    "\n",
    "\n"
   ]
  },
  {
   "cell_type": "markdown",
   "id": "27a2c824-2880-49f7-aceb-775245e551a1",
   "metadata": {},
   "source": [
    "In the end, we found the most significant predictors to be `age`, `thalach`, and `exang`, and the most optimal *k* value to be *k*=50. This resulting in the final models prediction accuracy to be approximately 75.5%. Since the final accuracy was pretty high , this classifier could be useful for predicting the presence of heart disease. With that in mind, it is important to remember that when put to use, the values for age, maximum heart rate achieved, and exercise induced angina may be less consistent with the values used to train and test this model. This may result to more frequent instances of missclassification, and a slightly different accuracy in practice.\n",
    "\n",
    "Overall, we were not expecting age to be as prominent of a factor as it was in making an accurate model. During the initial researching stage, we found that as age increases, the risk for heart disease also increases as, the heart and its connecting blood vessels are also aging (NIH, 2023). This however was not the trend we found when looking at the mean values for individuals who do have heart disease which, was a lower age compared to individuals without heart disease. This finding may lead to researchers looking into a younger age group when trying to find ways to identify risks for developing heart disease. \n",
    "\n",
    "The maximum heart rate achieved was also found to be a significant factor in detecting presence of heart disease. This brings to light a new how going over that heart rate can also increases risks of heart disease. As supported by Healthline, going over the maximum heart rate for an individuals age group can be dangerous for ones health (Healthline, 2023). This particular finding may highlight the importance of the maximum heart rate for individuals, and what a healthy and safe heart rate range is to reduce risks of developing heart disease.\n",
    "\n",
    "Exercise induced angina was not found in high instances in patients with heart disease. This was quite surprising but, made it an effective predictor variable as, it was very infrequently found  when an individual had heart disease. While this finding is unexpected, it highlights the significance of the risks of heart disease, even in the absence of some of the telltale signs.\n",
    "\n",
    "For the future, these findings may lead to different directions in research where the less expected predictors and parts of a health report can be used to determine risks of heart disease before a diagnosis is made. In turn, this may lead to questions of whether the current direction of research is the most effective, and if the stereotypical of a heart disease patient still holds true."
   ]
  },
  {
   "cell_type": "markdown",
   "id": "38f2639d-dc11-43a5-80f7-5f5bf9bf3173",
   "metadata": {},
   "source": [
    "### References:\n"
   ]
  },
  {
   "cell_type": "markdown",
   "id": "afc57fef-ee38-409c-9e82-278eab60c9b0",
   "metadata": {},
   "source": [
    "Canada, P. H. A. of. (2022, July 28). Government of Canada. Canada.ca. Retrieved April 9, 2023, from https://www.canada.ca/en/public-health/services/publications/diseases-conditions/heart-disease-canada.html \n",
    "\n",
    "Chertoff, J. (2023, February 23). Running heart rate: What's safe and what's too high? Healthline. Retrieved April 19, 2023, from https://www.healthline.com/health/running-heart-rate#:~:text=Going%20higher%20than%20your%20maximum,you're%20new%20to%20exercise. \n",
    "\n",
    "Lapp, D. (2019, June 6). Heart disease dataset. Kaggle. Retrieved April 12, 2023, from https://www.kaggle.com/datasets/johnsmith88/heart-disease-dataset?resource=download \n",
    "\n",
    "Mayo Foundation for Medical Education and Research. (2022, March 30). Angina. Mayo Clinic. Retrieved April 9, 2023, from https://www.mayoclinic.org/diseases-conditions/angina/symptoms-causes/syc-20369373#:~:text=During%20times%20of%20low%20oxygen,when%20exercising%2C%20angina%20can%20result. \n",
    "\n",
    "U.S. Department of Health and Human Services. (2018, June 1). Heart health and aging. National Institute on Aging. Retrieved April 12, 2023, from https://www.nia.nih.gov/health/heart-health-and-aging#:~:text=Adults%20age%2065%20and%20older,risk%20of%20developing%20cardiovascular%20disease. "
   ]
  },
  {
   "cell_type": "code",
   "execution_count": null,
   "id": "3a27b388-efd8-4e9a-808b-3c38cd4e90c5",
   "metadata": {},
   "outputs": [],
   "source": []
  }
 ],
 "metadata": {
  "kernelspec": {
   "display_name": "R",
   "language": "R",
   "name": "ir"
  },
  "language_info": {
   "codemirror_mode": "r",
   "file_extension": ".r",
   "mimetype": "text/x-r-source",
   "name": "R",
   "pygments_lexer": "r",
   "version": "4.1.1"
  }
 },
 "nbformat": 4,
 "nbformat_minor": 5
}
