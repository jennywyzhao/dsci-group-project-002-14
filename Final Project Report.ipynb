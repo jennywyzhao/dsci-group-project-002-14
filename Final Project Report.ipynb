{
 "cells": [
  {
   "cell_type": "markdown",
   "id": "ea290682-0bff-4676-8233-f9985f3ea2f7",
   "metadata": {},
   "source": [
    "## Predicting Heart Disease\n"
   ]
  },
  {
   "cell_type": "markdown",
   "id": "d7ef840d-e04b-46ca-b85b-a982e30ace1c",
   "metadata": {},
   "source": [
    "### Introduction:"
   ]
  },
  {
   "cell_type": "markdown",
   "id": "53e808bd-40dc-4003-b9ef-04add0e1de34",
   "metadata": {},
   "source": [
    "Heart disease is an umbrella term for a vast range of conditions that affect the heart. While there are many leading causes that can contribute to higher risks to heart disease, unhealthy lifestyle choices and genetics often play a large role. Based on a dataset from 1988 consisting of 4 databases, Cleveland, Hungary, Switzerland, and Long Beach V, trends relating to heart disease will be used to predict the presence of it in individuals. Five attributes will be observed in order to successfully determine the presence of heart disease in a patient. Using the method of K-nearest neighbours classification, the question of \"Can heart disease in a patient be predicted prior to diagnoses using data on age, exercise induced angina, serum cholesterol levels and resting blood pressure?\"."
   ]
  },
  {
   "cell_type": "markdown",
   "id": "1350c0f0-7c77-45b8-b669-54d3c97e3c3c",
   "metadata": {},
   "source": [
    "### Methods and Results:\n",
    "** describe in written English the methods you used to perform your analysis from beginning to end that narrates the code the does the analysis.\n",
    "your report should include code which:\n",
    "loads data from the original source on the web \n",
    "wrangles and cleans the data from it's original (downloaded) format to the format necessary for the planned analysis\n",
    "performs a summary of the data set that is relevant for exploratory data analysis related to the planned analysis \n",
    "creates a visualization of the dataset that is relevant for exploratory data analysis related to the planned analysis\n",
    "performs the data analysis\n",
    "creates a visualization of the analysis \n",
    "note: all tables and figure should have a figure/table number and a legend **"
   ]
  },
  {
   "cell_type": "markdown",
   "id": "f51141a3-3be1-42bc-9a8e-d2154f00adf2",
   "metadata": {},
   "source": [
    "To begin our analysis we first loaded in some of the libraries that we would likely be using. Then, using read_csv, we first read in our dataset to better explore the variables and their relationship to the \"target\" variable, indicating the absence of heart disease, 0, and the presence of heart disease, 1. We then selected the predictors we wanted to use and checked if there were mission values in the data set using the \"sum(is.na())\" function."
   ]
  },
  {
   "cell_type": "code",
   "execution_count": 1,
   "id": "f2651507-20ef-42b4-bc01-ef30678e8764",
   "metadata": {},
   "outputs": [
    {
     "name": "stderr",
     "output_type": "stream",
     "text": [
      "── \u001b[1mAttaching packages\u001b[22m ─────────────────────────────────────── tidyverse 1.3.1 ──\n",
      "\n",
      "\u001b[32m✔\u001b[39m \u001b[34mggplot2\u001b[39m 3.3.6     \u001b[32m✔\u001b[39m \u001b[34mpurrr  \u001b[39m 0.3.4\n",
      "\u001b[32m✔\u001b[39m \u001b[34mtibble \u001b[39m 3.1.7     \u001b[32m✔\u001b[39m \u001b[34mdplyr  \u001b[39m 1.0.9\n",
      "\u001b[32m✔\u001b[39m \u001b[34mtidyr  \u001b[39m 1.2.0     \u001b[32m✔\u001b[39m \u001b[34mstringr\u001b[39m 1.4.0\n",
      "\u001b[32m✔\u001b[39m \u001b[34mreadr  \u001b[39m 2.1.2     \u001b[32m✔\u001b[39m \u001b[34mforcats\u001b[39m 0.5.1\n",
      "\n",
      "── \u001b[1mConflicts\u001b[22m ────────────────────────────────────────── tidyverse_conflicts() ──\n",
      "\u001b[31m✖\u001b[39m \u001b[34mdplyr\u001b[39m::\u001b[32mfilter()\u001b[39m masks \u001b[34mstats\u001b[39m::filter()\n",
      "\u001b[31m✖\u001b[39m \u001b[34mdplyr\u001b[39m::\u001b[32mlag()\u001b[39m    masks \u001b[34mstats\u001b[39m::lag()\n",
      "\n",
      "── \u001b[1mAttaching packages\u001b[22m ────────────────────────────────────── tidymodels 1.0.0 ──\n",
      "\n",
      "\u001b[32m✔\u001b[39m \u001b[34mbroom       \u001b[39m 1.0.0     \u001b[32m✔\u001b[39m \u001b[34mrsample     \u001b[39m 1.0.0\n",
      "\u001b[32m✔\u001b[39m \u001b[34mdials       \u001b[39m 1.0.0     \u001b[32m✔\u001b[39m \u001b[34mtune        \u001b[39m 1.0.0\n",
      "\u001b[32m✔\u001b[39m \u001b[34minfer       \u001b[39m 1.0.2     \u001b[32m✔\u001b[39m \u001b[34mworkflows   \u001b[39m 1.0.0\n",
      "\u001b[32m✔\u001b[39m \u001b[34mmodeldata   \u001b[39m 1.0.0     \u001b[32m✔\u001b[39m \u001b[34mworkflowsets\u001b[39m 1.0.0\n",
      "\u001b[32m✔\u001b[39m \u001b[34mparsnip     \u001b[39m 1.0.0     \u001b[32m✔\u001b[39m \u001b[34myardstick   \u001b[39m 1.0.0\n",
      "\u001b[32m✔\u001b[39m \u001b[34mrecipes     \u001b[39m 1.0.1     \n",
      "\n",
      "── \u001b[1mConflicts\u001b[22m ───────────────────────────────────────── tidymodels_conflicts() ──\n",
      "\u001b[31m✖\u001b[39m \u001b[34mscales\u001b[39m::\u001b[32mdiscard()\u001b[39m masks \u001b[34mpurrr\u001b[39m::discard()\n",
      "\u001b[31m✖\u001b[39m \u001b[34mdplyr\u001b[39m::\u001b[32mfilter()\u001b[39m   masks \u001b[34mstats\u001b[39m::filter()\n",
      "\u001b[31m✖\u001b[39m \u001b[34mrecipes\u001b[39m::\u001b[32mfixed()\u001b[39m  masks \u001b[34mstringr\u001b[39m::fixed()\n",
      "\u001b[31m✖\u001b[39m \u001b[34mdplyr\u001b[39m::\u001b[32mlag()\u001b[39m      masks \u001b[34mstats\u001b[39m::lag()\n",
      "\u001b[31m✖\u001b[39m \u001b[34myardstick\u001b[39m::\u001b[32mspec()\u001b[39m masks \u001b[34mreadr\u001b[39m::spec()\n",
      "\u001b[31m✖\u001b[39m \u001b[34mrecipes\u001b[39m::\u001b[32mstep()\u001b[39m   masks \u001b[34mstats\u001b[39m::step()\n",
      "\u001b[34m•\u001b[39m Use \u001b[32mtidymodels_prefer()\u001b[39m to resolve common conflicts.\n",
      "\n",
      "\n",
      "Attaching package: ‘gridExtra’\n",
      "\n",
      "\n",
      "The following object is masked from ‘package:dplyr’:\n",
      "\n",
      "    combine\n",
      "\n",
      "\n",
      "\u001b[1mRows: \u001b[22m\u001b[34m1025\u001b[39m \u001b[1mColumns: \u001b[22m\u001b[34m14\u001b[39m\n",
      "\u001b[36m──\u001b[39m \u001b[1mColumn specification\u001b[22m \u001b[36m────────────────────────────────────────────────────────\u001b[39m\n",
      "\u001b[1mDelimiter:\u001b[22m \",\"\n",
      "\u001b[32mdbl\u001b[39m (14): age, sex, cp, trestbps, chol, fbs, restecg, thalach, exang, oldpea...\n",
      "\n",
      "\u001b[36mℹ\u001b[39m Use `spec()` to retrieve the full column specification for this data.\n",
      "\u001b[36mℹ\u001b[39m Specify the column types or set `show_col_types = FALSE` to quiet this message.\n"
     ]
    },
    {
     "data": {
      "text/html": [
       "<table class=\"dataframe\">\n",
       "<caption>A tibble: 5 × 6</caption>\n",
       "<thead>\n",
       "\t<tr><th scope=col>age</th><th scope=col>exang</th><th scope=col>chol</th><th scope=col>cp</th><th scope=col>trestbps</th><th scope=col>target</th></tr>\n",
       "\t<tr><th scope=col>&lt;dbl&gt;</th><th scope=col>&lt;dbl&gt;</th><th scope=col>&lt;dbl&gt;</th><th scope=col>&lt;dbl&gt;</th><th scope=col>&lt;dbl&gt;</th><th scope=col>&lt;dbl&gt;</th></tr>\n",
       "</thead>\n",
       "<tbody>\n",
       "\t<tr><td>52</td><td>0</td><td>212</td><td>0</td><td>125</td><td>0</td></tr>\n",
       "\t<tr><td>53</td><td>1</td><td>203</td><td>0</td><td>140</td><td>0</td></tr>\n",
       "\t<tr><td>70</td><td>1</td><td>174</td><td>0</td><td>145</td><td>0</td></tr>\n",
       "\t<tr><td>61</td><td>0</td><td>203</td><td>0</td><td>148</td><td>0</td></tr>\n",
       "\t<tr><td>62</td><td>0</td><td>294</td><td>0</td><td>138</td><td>0</td></tr>\n",
       "</tbody>\n",
       "</table>\n"
      ],
      "text/latex": [
       "A tibble: 5 × 6\n",
       "\\begin{tabular}{llllll}\n",
       " age & exang & chol & cp & trestbps & target\\\\\n",
       " <dbl> & <dbl> & <dbl> & <dbl> & <dbl> & <dbl>\\\\\n",
       "\\hline\n",
       "\t 52 & 0 & 212 & 0 & 125 & 0\\\\\n",
       "\t 53 & 1 & 203 & 0 & 140 & 0\\\\\n",
       "\t 70 & 1 & 174 & 0 & 145 & 0\\\\\n",
       "\t 61 & 0 & 203 & 0 & 148 & 0\\\\\n",
       "\t 62 & 0 & 294 & 0 & 138 & 0\\\\\n",
       "\\end{tabular}\n"
      ],
      "text/markdown": [
       "\n",
       "A tibble: 5 × 6\n",
       "\n",
       "| age &lt;dbl&gt; | exang &lt;dbl&gt; | chol &lt;dbl&gt; | cp &lt;dbl&gt; | trestbps &lt;dbl&gt; | target &lt;dbl&gt; |\n",
       "|---|---|---|---|---|---|\n",
       "| 52 | 0 | 212 | 0 | 125 | 0 |\n",
       "| 53 | 1 | 203 | 0 | 140 | 0 |\n",
       "| 70 | 1 | 174 | 0 | 145 | 0 |\n",
       "| 61 | 0 | 203 | 0 | 148 | 0 |\n",
       "| 62 | 0 | 294 | 0 | 138 | 0 |\n",
       "\n"
      ],
      "text/plain": [
       "  age exang chol cp trestbps target\n",
       "1 52  0     212  0  125      0     \n",
       "2 53  1     203  0  140      0     \n",
       "3 70  1     174  0  145      0     \n",
       "4 61  0     203  0  148      0     \n",
       "5 62  0     294  0  138      0     "
      ]
     },
     "metadata": {},
     "output_type": "display_data"
    },
    {
     "data": {
      "text/html": [
       "0"
      ],
      "text/latex": [
       "0"
      ],
      "text/markdown": [
       "0"
      ],
      "text/plain": [
       "[1] 0"
      ]
     },
     "metadata": {},
     "output_type": "display_data"
    }
   ],
   "source": [
    "library(tidyverse)\n",
    "library(repr)\n",
    "library(dplyr)\n",
    "library(tidymodels)\n",
    "library(ggplot2)\n",
    "library(gridExtra)\n",
    "\n",
    "\n",
    "heart_data <- read_csv(\"project_data/heart.csv\")\n",
    "\n",
    "heart_var <- heart_data |>\n",
    "    select(age, exang, chol, cp, trestbps, target)\n",
    "slice(heart_var, 1:5)\n",
    "sum(is.na(heart_data))"
   ]
  },
  {
   "cell_type": "markdown",
   "id": "4351203e-fae4-4755-a661-3074cec765f5",
   "metadata": {},
   "source": [
    "From here, we split the data with the seleced variables into a training set with 75% of the data, and a testing set with 25% of the data. To make sure the data is reproducible, we will be using 3456 as our seed number."
   ]
  },
  {
   "cell_type": "code",
   "execution_count": 5,
   "id": "3fef127d-2d32-42f6-938a-0b55d7985b25",
   "metadata": {},
   "outputs": [
    {
     "data": {
      "text/html": [
       "<table class=\"dataframe\">\n",
       "<caption>A tibble: 5 × 6</caption>\n",
       "<thead>\n",
       "\t<tr><th scope=col>age</th><th scope=col>exang</th><th scope=col>chol</th><th scope=col>cp</th><th scope=col>trestbps</th><th scope=col>target</th></tr>\n",
       "\t<tr><th scope=col>&lt;dbl&gt;</th><th scope=col>&lt;dbl&gt;</th><th scope=col>&lt;dbl&gt;</th><th scope=col>&lt;dbl&gt;</th><th scope=col>&lt;dbl&gt;</th><th scope=col>&lt;dbl&gt;</th></tr>\n",
       "</thead>\n",
       "<tbody>\n",
       "\t<tr><td>53</td><td>1</td><td>203</td><td>0</td><td>140</td><td>0</td></tr>\n",
       "\t<tr><td>70</td><td>1</td><td>174</td><td>0</td><td>145</td><td>0</td></tr>\n",
       "\t<tr><td>61</td><td>0</td><td>203</td><td>0</td><td>148</td><td>0</td></tr>\n",
       "\t<tr><td>46</td><td>0</td><td>249</td><td>0</td><td>120</td><td>0</td></tr>\n",
       "\t<tr><td>43</td><td>1</td><td>341</td><td>0</td><td>132</td><td>0</td></tr>\n",
       "</tbody>\n",
       "</table>\n"
      ],
      "text/latex": [
       "A tibble: 5 × 6\n",
       "\\begin{tabular}{llllll}\n",
       " age & exang & chol & cp & trestbps & target\\\\\n",
       " <dbl> & <dbl> & <dbl> & <dbl> & <dbl> & <dbl>\\\\\n",
       "\\hline\n",
       "\t 53 & 1 & 203 & 0 & 140 & 0\\\\\n",
       "\t 70 & 1 & 174 & 0 & 145 & 0\\\\\n",
       "\t 61 & 0 & 203 & 0 & 148 & 0\\\\\n",
       "\t 46 & 0 & 249 & 0 & 120 & 0\\\\\n",
       "\t 43 & 1 & 341 & 0 & 132 & 0\\\\\n",
       "\\end{tabular}\n"
      ],
      "text/markdown": [
       "\n",
       "A tibble: 5 × 6\n",
       "\n",
       "| age &lt;dbl&gt; | exang &lt;dbl&gt; | chol &lt;dbl&gt; | cp &lt;dbl&gt; | trestbps &lt;dbl&gt; | target &lt;dbl&gt; |\n",
       "|---|---|---|---|---|---|\n",
       "| 53 | 1 | 203 | 0 | 140 | 0 |\n",
       "| 70 | 1 | 174 | 0 | 145 | 0 |\n",
       "| 61 | 0 | 203 | 0 | 148 | 0 |\n",
       "| 46 | 0 | 249 | 0 | 120 | 0 |\n",
       "| 43 | 1 | 341 | 0 | 132 | 0 |\n",
       "\n"
      ],
      "text/plain": [
       "  age exang chol cp trestbps target\n",
       "1 53  1     203  0  140      0     \n",
       "2 70  1     174  0  145      0     \n",
       "3 61  0     203  0  148      0     \n",
       "4 46  0     249  0  120      0     \n",
       "5 43  1     341  0  132      0     "
      ]
     },
     "metadata": {},
     "output_type": "display_data"
    }
   ],
   "source": [
    "set.seed(3456)\n",
    "\n",
    "heart_split <- initial_split(heart_var, prop = 0.75, strata = target)  \n",
    "heart_train <- training(heart_split)   \n",
    "heart_test <- testing(heart_split)\n",
    "\n",
    "slice(heart_train, 1:5)"
   ]
  },
  {
   "cell_type": "markdown",
   "id": "0161e224-8e5e-4db4-9230-7ca2f41812d5",
   "metadata": {},
   "source": [
    "Since many of the chosen variables use values representing a condition, we decided to use box plots to first visualize each predictor variable against the target variable to identify trends. By doing so, we can better understand which method is most suitable for our model."
   ]
  },
  {
   "cell_type": "code",
   "execution_count": 11,
   "id": "99c81445-944c-4189-9e47-331d78f79f33",
   "metadata": {},
   "outputs": [
    {
     "data": {
      "image/png": "[encoded data removed]",
      "text/plain": [
       "plot without title"
      ]
     },
     "metadata": {
      "image/png": {
       "height": 420,
       "width": 420
      }
     },
     "output_type": "display_data"
    },
    {
     "data": {
      "image/png": "[encoded data removed]",
      "text/plain": [
       "plot without title"
      ]
     },
     "metadata": {
      "image/png": {
       "height": 420,
       "width": 420
      }
     },
     "output_type": "display_data"
    },
    {
     "name": "stderr",
     "output_type": "stream",
     "text": [
      "ERROR while rich displaying an object: \u001b[1m\u001b[33mError\u001b[39m in \u001b[1m\u001b[1m`f()`:\u001b[22m\n",
      "\u001b[33m!\u001b[39m stat_bin() can only have an x or y aesthetic.\n",
      "\n",
      "Traceback:\n",
      "1. tryCatch(withCallingHandlers({\n",
      " .     if (!mime %in% names(repr::mime2repr)) \n",
      " .         stop(\"No repr_* for mimetype \", mime, \" in repr::mime2repr\")\n",
      " .     rpr <- repr::mime2repr[[mime]](obj)\n",
      " .     if (is.null(rpr)) \n",
      " .         return(NULL)\n",
      " .     prepare_content(is.raw(rpr), rpr)\n",
      " . }, error = error_handler), error = outer_handler)\n",
      "2. tryCatchList(expr, classes, parentenv, handlers)\n",
      "3. tryCatchOne(expr, names, parentenv, handlers[[1L]])\n",
      "4. doTryCatch(return(expr), name, parentenv, handler)\n",
      "5. withCallingHandlers({\n",
      " .     if (!mime %in% names(repr::mime2repr)) \n",
      " .         stop(\"No repr_* for mimetype \", mime, \" in repr::mime2repr\")\n",
      " .     rpr <- repr::mime2repr[[mime]](obj)\n",
      " .     if (is.null(rpr)) \n",
      " .         return(NULL)\n",
      " .     prepare_content(is.raw(rpr), rpr)\n",
      " . }, error = error_handler)\n",
      "6. repr::mime2repr[[mime]](obj)\n",
      "7. repr_text.default(obj)\n",
      "8. paste(capture.output(print(obj)), collapse = \"\\n\")\n",
      "9. capture.output(print(obj))\n",
      "10. withVisible(...elt(i))\n",
      "11. print(obj)\n",
      "12. print.ggplot(obj)\n",
      "13. ggplot_build(x)\n",
      "14. ggplot_build.ggplot(x)\n",
      "15. by_layer(function(l, d) l$compute_statistic(d, layout))\n",
      "16. f(l = layers[[i]], d = data[[i]])\n",
      "17. l$compute_statistic(d, layout)\n",
      "18. f(..., self = self)\n",
      "19. self$stat$setup_params(data, self$stat_params)\n",
      "20. f(...)\n",
      "21. abort(\"stat_bin() can only have an x or y aesthetic.\")\n",
      "22. signal_abort(cnd, .file)\n"
     ]
    },
    {
     "data": {
      "image/png": "[encoded data removed]",
      "text/plain": [
       "plot without title"
      ]
     },
     "metadata": {
      "image/png": {
       "height": 420,
       "width": 420
      }
     },
     "output_type": "display_data"
    },
    {
     "data": {
      "image/png": "[encoded data removed]",
      "text/plain": [
       "plot without title"
      ]
     },
     "metadata": {
      "image/png": {
       "height": 420,
       "width": 420
      }
     },
     "output_type": "display_data"
    }
   ],
   "source": [
    "chol_plot <- ggplot(heart_train, \n",
    "       aes(y = chol, \n",
    "           x =as.factor(target))) +\n",
    "        geom_boxplot(fill=\"slateblue\", alpha=0.2)+\n",
    "        labs(x=\"Presence of Heart Disease (0=no, 1=yes)\", y=\"Cholesteral Level\" )\n",
    "chol_plot\n",
    "\n",
    "trestbps_plot<- ggplot(heart_train,\n",
    "        aes(y= trestbps,\n",
    "            x= as.factor(target))) +\n",
    "    geom_boxplot(fill=\"red\", alpha=0.2)+\n",
    "    labs(x=\"Presence of Heart Disease (0=no, 1=yes)\", y=\"Resting Blood Pressure\" )\n",
    "trestbps_plot        \n",
    "\n",
    "age_plot<- ggplot(heart_train,\n",
    "        aes(y= age,\n",
    "            x= as.factor(target))) +\n",
    "    geom_boxplot(fill=\"purple\", alpha=0.2)+\n",
    "    labs(x=\"Presence of Heart Disease (0=no, 1=yes)\", y=\"Age\" )\n",
    "age_plot       \n",
    "\n",
    "\n",
    "cp_plot <- ggplot(heart_train,\n",
    "        aes(y= cp,\n",
    "            x= as.factor(target))) +\n",
    "    geom_histogram()+\n",
    "    labs(x = \"Presence of Heart Disease (0=no, 1=yes)\", y = \"Chest Pain Type\")\n",
    "cp_plot"
   ]
  },
  {
   "cell_type": "markdown",
   "id": "898e611d-b64e-4c47-bdad-27bbbb989902",
   "metadata": {},
   "source": [
    "### Discussion:\n",
    "** summarize what you found\n",
    "discuss whether this is what you expected to find?\n",
    "discuss what impact could such findings have?\n",
    "discuss what future questions could this lead to? **"
   ]
  },
  {
   "cell_type": "markdown",
   "id": "38f2639d-dc11-43a5-80f7-5f5bf9bf3173",
   "metadata": {},
   "source": [
    "### References:\n",
    "** At least 2 citations of literature relevant to the project (format is your choice, just be consistent across the references).\n",
    "Make sure to cite the source of your data as well. **"
   ]
  },
  {
   "cell_type": "code",
   "execution_count": null,
   "id": "046245e8-fd39-475a-81b9-4e0342bd24f4",
   "metadata": {},
   "outputs": [],
   "source": []
  }
 ],
 "metadata": {
  "kernelspec": {
   "display_name": "R",
   "language": "R",
   "name": "ir"
  },
  "language_info": {
   "codemirror_mode": "r",
   "file_extension": ".r",
   "mimetype": "text/x-r-source",
   "name": "R",
   "pygments_lexer": "r",
   "version": "4.1.3"
  }
 },
 "nbformat": 4,
 "nbformat_minor": 5
}
