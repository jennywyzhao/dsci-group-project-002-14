{
 "cells": [
  {
   "cell_type": "markdown",
   "id": "ea290682-0bff-4676-8233-f9985f3ea2f7",
   "metadata": {},
   "source": [
    "## Predicting Heart Disease\n"
   ]
  },
  {
   "cell_type": "markdown",
   "id": "d7ef840d-e04b-46ca-b85b-a982e30ace1c",
   "metadata": {},
   "source": [
    "### Introduction:"
   ]
  },
  {
   "cell_type": "markdown",
   "id": "53e808bd-40dc-4003-b9ef-04add0e1de34",
   "metadata": {},
   "source": [
    "Heart disease is an umbrella term for a vast range of conditions that affect the heart. While there are many leading causes that can contribute to higher risks to heart disease, unhealthy lifestyle choices and genetics often play a large role. Based on a dataset from 1988 consisting of 4 databases, Cleveland, Hungary, Switzerland, and Long Beach V, trends relating to heart disease will be used to predict the presence of it in individuals. Five attributes will be observed in order to successfully determine the presence of heart disease in a patient. Using the method of K-nearest neighbours classification, the question of \"Can heart disease in a patient be predicted prior to diagnoses using data on age, exercise induced angina, serum cholesterol levels and resting blood pressure?\"."
   ]
  },
  {
   "cell_type": "markdown",
   "id": "1350c0f0-7c77-45b8-b669-54d3c97e3c3c",
   "metadata": {},
   "source": [
    "### Methods and Results:\n",
    "** describe in written English the methods you used to perform your analysis from beginning to end that narrates the code the does the analysis.\n",
    "your report should include code which:\n",
    "loads data from the original source on the web \n",
    "wrangles and cleans the data from it's original (downloaded) format to the format necessary for the planned analysis\n",
    "performs a summary of the data set that is relevant for exploratory data analysis related to the planned analysis \n",
    "creates a visualization of the dataset that is relevant for exploratory data analysis related to the planned analysis\n",
    "performs the data analysis\n",
    "creates a visualization of the analysis \n",
    "note: all tables and figure should have a figure/table number and a legend **"
   ]
  },
  {
   "cell_type": "markdown",
   "id": "f51141a3-3be1-42bc-9a8e-d2154f00adf2",
   "metadata": {},
   "source": [
    "Using read_csv, we first read in our dataset to better explore the variables and their relationship to the target variable indicating the absence of heart disease, 0, and the presence of heart disease, 1."
   ]
  },
  {
   "cell_type": "markdown",
   "id": "898e611d-b64e-4c47-bdad-27bbbb989902",
   "metadata": {},
   "source": [
    "### Discussion:\n",
    "** summarize what you found\n",
    "discuss whether this is what you expected to find?\n",
    "discuss what impact could such findings have?\n",
    "discuss what future questions could this lead to? **"
   ]
  },
  {
   "cell_type": "markdown",
   "id": "38f2639d-dc11-43a5-80f7-5f5bf9bf3173",
   "metadata": {},
   "source": [
    "### References:\n",
    "** At least 2 citations of literature relevant to the project (format is your choice, just be consistent across the references).\n",
    "Make sure to cite the source of your data as well. **"
   ]
  },
  {
   "cell_type": "code",
   "execution_count": null,
   "id": "046245e8-fd39-475a-81b9-4e0342bd24f4",
   "metadata": {},
   "outputs": [],
   "source": []
  }
 ],
 "metadata": {
  "kernelspec": {
   "display_name": "R",
   "language": "R",
   "name": "ir"
  },
  "language_info": {
   "codemirror_mode": "r",
   "file_extension": ".r",
   "mimetype": "text/x-r-source",
   "name": "R",
   "pygments_lexer": "r",
   "version": "4.1.3"
  }
 },
 "nbformat": 4,
 "nbformat_minor": 5
}
