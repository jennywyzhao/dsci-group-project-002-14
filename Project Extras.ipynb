{
 "cells": [
  {
   "cell_type": "markdown",
   "id": "ad02faaf-62ce-4758-ae47-e0f76f252c48",
   "metadata": {},
   "source": [
    "## Extra stuff"
   ]
  },
  {
   "cell_type": "code",
   "execution_count": 1,
   "id": "b6ea9538-da0f-4096-9e32-202dd37f9756",
   "metadata": {},
   "outputs": [],
   "source": [
    "#chol_plot <- ggplot(heart_train, \n",
    "       #aes(y = chol, \n",
    "           #x =as.factor(target))) +\n",
    "        #geom_boxplot(fill=\"slateblue\", alpha=0.2)+\n",
    "        #labs(x=\"Presence of Heart Disease (0=no, 1=yes)\", y=\"Cholesteral Level\" )\n",
    "\n",
    "\n",
    "#trestbps_plot<- ggplot(heart_train,\n",
    "        #aes(y= trestbps,\n",
    "            #x= as.factor(target))) +\n",
    "    #geom_boxplot(fill=\"red\", alpha=0.2)+\n",
    "    #labs(x=\"Presence of Heart Disease (0=no, 1=yes)\", y=\"Resting Blood Pressure\" )\n",
    "        \n",
    "\n",
    "#age_plot<- ggplot(heart_train,\n",
    "        #aes(y= age,\n",
    "            #x= as.factor(target))) +\n",
    "    #geom_boxplot(fill=\"purple\", alpha=0.2)+\n",
    "    #labs(x=\"Presence of Heart Disease (0=no, 1=yes)\", y=\"Age\" )\n",
    "       \n",
    "\n",
    "\n",
    "#cp_plot <-ggplot(data= heart_train, aes(x=target, y=cp,fill=group)) +\n",
    "  #geom_bar()"
   ]
  },
  {
   "cell_type": "code",
   "execution_count": null,
   "id": "b3d78c3d-a0bd-4873-a8a9-ba18f639da06",
   "metadata": {},
   "outputs": [],
   "source": []
  }
 ],
 "metadata": {
  "kernelspec": {
   "display_name": "R",
   "language": "R",
   "name": "ir"
  },
  "language_info": {
   "codemirror_mode": "r",
   "file_extension": ".r",
   "mimetype": "text/x-r-source",
   "name": "R",
   "pygments_lexer": "r",
   "version": "4.1.3"
  }
 },
 "nbformat": 4,
 "nbformat_minor": 5
}
