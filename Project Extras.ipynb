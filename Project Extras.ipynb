{
 "cells": [
  {
   "cell_type": "markdown",
   "id": "ad02faaf-62ce-4758-ae47-e0f76f252c48",
   "metadata": {},
   "source": [
    "## Extra stuff"
   ]
  },
  {
   "cell_type": "code",
   "execution_count": 1,
   "id": "b6ea9538-da0f-4096-9e32-202dd37f9756",
   "metadata": {},
   "outputs": [],
   "source": [
    "#chol_plot <- ggplot(heart_train, \n",
    "       #aes(y = chol, \n",
    "           #x =as.factor(target))) +\n",
    "        #geom_boxplot(fill=\"slateblue\", alpha=0.2)+\n",
    "        #labs(x=\"Presence of Heart Disease (0=no, 1=yes)\", y=\"Cholesteral Level\" )\n",
    "\n",
    "\n",
    "#trestbps_plot<- ggplot(heart_train,\n",
    "        #aes(y= trestbps,\n",
    "            #x= as.factor(target))) +\n",
    "    #geom_boxplot(fill=\"red\", alpha=0.2)+\n",
    "    #labs(x=\"Presence of Heart Disease (0=no, 1=yes)\", y=\"Resting Blood Pressure\" )\n",
    "        \n",
    "\n",
    "#age_plot<- ggplot(heart_train,\n",
    "        #aes(y= age,\n",
    "            #x= as.factor(target))) +\n",
    "    #geom_boxplot(fill=\"purple\", alpha=0.2)+\n",
    "    #labs(x=\"Presence of Heart Disease (0=no, 1=yes)\", y=\"Age\" )\n",
    "       \n",
    "\n",
    "\n",
    "#cp_plot <-ggplot(data= heart_train, aes(x=target, y=cp,fill=group)) +\n",
    "  #geom_bar()"
   ]
  },
  {
   "cell_type": "code",
   "execution_count": 8,
   "id": "b3d78c3d-a0bd-4873-a8a9-ba18f639da06",
   "metadata": {},
   "outputs": [
    {
     "ename": "ERROR",
     "evalue": "Error in url(\"kaggle datasets download -d johnsmith88/heart-disease-dataset\"): URL scheme unsupported by this method\n",
     "output_type": "error",
     "traceback": [
      "Error in url(\"kaggle datasets download -d johnsmith88/heart-disease-dataset\"): URL scheme unsupported by this method\nTraceback:\n",
      "1. read_csv(url(\"kaggle datasets download -d johnsmith88/heart-disease-dataset\"))",
      "2. vroom::vroom(file, delim = \",\", col_names = col_names, col_types = col_types, \n .     col_select = {\n .         {\n .             col_select\n .         }\n .     }, id = id, .name_repair = name_repair, skip = skip, n_max = n_max, \n .     na = na, quote = quote, comment = comment, skip_empty_rows = skip_empty_rows, \n .     trim_ws = trim_ws, escape_double = TRUE, escape_backslash = FALSE, \n .     locale = locale, guess_max = guess_max, show_col_types = show_col_types, \n .     progress = progress, altrep = lazy, num_threads = num_threads)",
      "3. standardise_path(file)",
      "4. url(\"kaggle datasets download -d johnsmith88/heart-disease-dataset\")"
     ]
    }
   ],
   "source": [
    "library(tidyverse)\n",
    "library(repr)\n",
    "library(dplyr)\n",
    "library(tidymodels)\n",
    "library(ggplot2)\n",
    "\n",
    "u <- read_csv(url(\"kaggle datasets download -d johnsmith88/heart-disease-dataset\"))\n",
    "u"
   ]
  },
  {
   "cell_type": "code",
   "execution_count": null,
   "id": "7fd9fcc9-1ef2-4860-8827-eda31e8d97ae",
   "metadata": {},
   "outputs": [],
   "source": []
  }
 ],
 "metadata": {
  "kernelspec": {
   "display_name": "R",
   "language": "R",
   "name": "ir"
  },
  "language_info": {
   "codemirror_mode": "r",
   "file_extension": ".r",
   "mimetype": "text/x-r-source",
   "name": "R",
   "pygments_lexer": "r",
   "version": "4.1.3"
  }
 },
 "nbformat": 4,
 "nbformat_minor": 5
}
