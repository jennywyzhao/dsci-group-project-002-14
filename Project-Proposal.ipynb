{
 "cells": [
  {
   "cell_type": "code",
   "execution_count": 18,
   "id": "24535075-2898-4425-bd8d-485246493ed0",
   "metadata": {},
   "outputs": [
    {
     "ename": "ERROR",
     "evalue": "Error in parse(text = x, srcfile = src): <text>:2:0: unexpected end of input\n1: Title:\n   ^\n",
     "output_type": "error",
     "traceback": [
      "Error in parse(text = x, srcfile = src): <text>:2:0: unexpected end of input\n1: Title:\n   ^\nTraceback:\n"
     ]
    }
   ],
   "source": [
    "Title: "
   ]
  },
  {
   "cell_type": "code",
   "execution_count": null,
   "id": "9b7c1d88-b145-499e-a3a5-a975560b7d12",
   "metadata": {},
   "outputs": [],
   "source": [
    "Introduction:\n",
    "Provide some relevant background information on the topic so that someone unfamiliar with it will be prepared to understand the rest of your proposal\n",
    "Clearly state the question you will try to answer with your project\n",
    "Identify and describe the dataset that will be used to answer the question\n",
    " "
   ]
  },
  {
   "cell_type": "code",
   "execution_count": null,
   "id": "559fc757-50a7-40ae-ad59-12df938cf16e",
   "metadata": {},
   "outputs": [],
   "source": [
    "Heart disease is an umbrella term for a vast range of conditions that affect the heart. Stroke, heart attack, cardiomyopathy, and angina are all \n",
    "examples of heart disease. Leading risk factors for heart disease are high blood pressure and cholesterol, obesity, unhealthy diet, and physical inactivity.\n",
    "Based on a dataset from 1988 consisting of 4 databases, Cleveland, Hungary, Switzerland, and Long Beach V, heart disease could be predicted \n",
    "in a patient by looking at 14 attributes. Of these attributes, 5 will be observed in order to successfully determine the presence of heart disease\n",
    "in a patient. The predictive question being asked is, \"By considering -the five attributes-, can heart disease in a patient be predicted?\". It is important \n",
    "to answer this question because heart disease is evidently fatal, and an early diagnosage increases the chances of recovery and/or \n",
    "survival. Though treatment varies based on the type and cause of the disease, changes in lifestyle habits can influence the presence of heart disease significantly.\n",
    "Recognizing even a possibility of a heart disease early on is important for patients, and thus, this project will allow for that early recognition. "
   ]
  },
  {
   "cell_type": "code",
   "execution_count": null,
   "id": "8e1f2f0b-7ec0-443d-8aec-de8d9cc3f696",
   "metadata": {},
   "outputs": [],
   "source": [
    "Preliminary exploratory data analysis:\n",
    "\n",
    "\n",
    "Demonstrate that the dataset can be read from the web into R \n",
    "Clean and wrangle your data into a tidy format\n",
    "Using only training data, summarize the data in at least one table (this is exploratory data analysis). An example of a useful table could be one that reports the number of observations in each class, the means of the predictor variables you plan to use in your analysis and how many rows have missing data. \n",
    "Using only training data, visualize the data with at least one plot relevant to the analysis you plan to do (this is exploratory data analysis). An example of a useful visualization could be one that compares the distributions of each of the predictor variables you plan to use in your analysis."
   ]
  },
  {
   "cell_type": "code",
   "execution_count": 2,
   "id": "d83dd354-4922-4e58-98a7-9df0129f212c",
   "metadata": {},
   "outputs": [
    {
     "name": "stderr",
     "output_type": "stream",
     "text": [
      "── \u001b[1mAttaching packages\u001b[22m ─────────────────────────────────────── tidyverse 1.3.1 ──\n",
      "\n",
      "\u001b[32m✔\u001b[39m \u001b[34mggplot2\u001b[39m 3.3.6     \u001b[32m✔\u001b[39m \u001b[34mpurrr  \u001b[39m 0.3.4\n",
      "\u001b[32m✔\u001b[39m \u001b[34mtibble \u001b[39m 3.1.7     \u001b[32m✔\u001b[39m \u001b[34mdplyr  \u001b[39m 1.0.9\n",
      "\u001b[32m✔\u001b[39m \u001b[34mtidyr  \u001b[39m 1.2.0     \u001b[32m✔\u001b[39m \u001b[34mstringr\u001b[39m 1.4.0\n",
      "\u001b[32m✔\u001b[39m \u001b[34mreadr  \u001b[39m 2.1.2     \u001b[32m✔\u001b[39m \u001b[34mforcats\u001b[39m 0.5.1\n",
      "\n",
      "── \u001b[1mConflicts\u001b[22m ────────────────────────────────────────── tidyverse_conflicts() ──\n",
      "\u001b[31m✖\u001b[39m \u001b[34mdplyr\u001b[39m::\u001b[32mfilter()\u001b[39m masks \u001b[34mstats\u001b[39m::filter()\n",
      "\u001b[31m✖\u001b[39m \u001b[34mdplyr\u001b[39m::\u001b[32mlag()\u001b[39m    masks \u001b[34mstats\u001b[39m::lag()\n",
      "\n",
      "── \u001b[1mAttaching packages\u001b[22m ────────────────────────────────────── tidymodels 1.0.0 ──\n",
      "\n",
      "\u001b[32m✔\u001b[39m \u001b[34mbroom       \u001b[39m 1.0.0     \u001b[32m✔\u001b[39m \u001b[34mrsample     \u001b[39m 1.0.0\n",
      "\u001b[32m✔\u001b[39m \u001b[34mdials       \u001b[39m 1.0.0     \u001b[32m✔\u001b[39m \u001b[34mtune        \u001b[39m 1.0.0\n",
      "\u001b[32m✔\u001b[39m \u001b[34minfer       \u001b[39m 1.0.2     \u001b[32m✔\u001b[39m \u001b[34mworkflows   \u001b[39m 1.0.0\n",
      "\u001b[32m✔\u001b[39m \u001b[34mmodeldata   \u001b[39m 1.0.0     \u001b[32m✔\u001b[39m \u001b[34mworkflowsets\u001b[39m 1.0.0\n",
      "\u001b[32m✔\u001b[39m \u001b[34mparsnip     \u001b[39m 1.0.0     \u001b[32m✔\u001b[39m \u001b[34myardstick   \u001b[39m 1.0.0\n",
      "\u001b[32m✔\u001b[39m \u001b[34mrecipes     \u001b[39m 1.0.1     \n",
      "\n",
      "── \u001b[1mConflicts\u001b[22m ───────────────────────────────────────── tidymodels_conflicts() ──\n",
      "\u001b[31m✖\u001b[39m \u001b[34mscales\u001b[39m::\u001b[32mdiscard()\u001b[39m masks \u001b[34mpurrr\u001b[39m::discard()\n",
      "\u001b[31m✖\u001b[39m \u001b[34mdplyr\u001b[39m::\u001b[32mfilter()\u001b[39m   masks \u001b[34mstats\u001b[39m::filter()\n",
      "\u001b[31m✖\u001b[39m \u001b[34mrecipes\u001b[39m::\u001b[32mfixed()\u001b[39m  masks \u001b[34mstringr\u001b[39m::fixed()\n",
      "\u001b[31m✖\u001b[39m \u001b[34mdplyr\u001b[39m::\u001b[32mlag()\u001b[39m      masks \u001b[34mstats\u001b[39m::lag()\n",
      "\u001b[31m✖\u001b[39m \u001b[34myardstick\u001b[39m::\u001b[32mspec()\u001b[39m masks \u001b[34mreadr\u001b[39m::spec()\n",
      "\u001b[31m✖\u001b[39m \u001b[34mrecipes\u001b[39m::\u001b[32mstep()\u001b[39m   masks \u001b[34mstats\u001b[39m::step()\n",
      "\u001b[34m•\u001b[39m Use suppressPackageStartupMessages() to eliminate package startup messages\n",
      "\n"
     ]
    },
    {
     "name": "stdout",
     "output_type": "stream",
     "text": [
      "[1] \"We started by reading in the dataset for heart disease then selecting six variables that we wanted to look at.\"\n"
     ]
    },
    {
     "name": "stderr",
     "output_type": "stream",
     "text": [
      "\u001b[1mRows: \u001b[22m\u001b[34m1025\u001b[39m \u001b[1mColumns: \u001b[22m\u001b[34m14\u001b[39m\n",
      "\u001b[36m──\u001b[39m \u001b[1mColumn specification\u001b[22m \u001b[36m────────────────────────────────────────────────────────\u001b[39m\n",
      "\u001b[1mDelimiter:\u001b[22m \",\"\n",
      "\u001b[32mdbl\u001b[39m (14): age, sex, cp, trestbps, chol, fbs, restecg, thalach, exang, oldpea...\n",
      "\n",
      "\u001b[36mℹ\u001b[39m Use `spec()` to retrieve the full column specification for this data.\n",
      "\u001b[36mℹ\u001b[39m Specify the column types or set `show_col_types = FALSE` to quiet this message.\n"
     ]
    },
    {
     "data": {
      "text/html": [
       "<table class=\"dataframe\">\n",
       "<caption>A tibble: 5 × 6</caption>\n",
       "<thead>\n",
       "\t<tr><th scope=col>age</th><th scope=col>sex</th><th scope=col>chol</th><th scope=col>cp</th><th scope=col>thal</th><th scope=col>target</th></tr>\n",
       "\t<tr><th scope=col>&lt;dbl&gt;</th><th scope=col>&lt;dbl&gt;</th><th scope=col>&lt;dbl&gt;</th><th scope=col>&lt;dbl&gt;</th><th scope=col>&lt;dbl&gt;</th><th scope=col>&lt;dbl&gt;</th></tr>\n",
       "</thead>\n",
       "<tbody>\n",
       "\t<tr><td>52</td><td>1</td><td>212</td><td>0</td><td>3</td><td>0</td></tr>\n",
       "\t<tr><td>53</td><td>1</td><td>203</td><td>0</td><td>3</td><td>0</td></tr>\n",
       "\t<tr><td>70</td><td>1</td><td>174</td><td>0</td><td>3</td><td>0</td></tr>\n",
       "\t<tr><td>61</td><td>1</td><td>203</td><td>0</td><td>3</td><td>0</td></tr>\n",
       "\t<tr><td>62</td><td>0</td><td>294</td><td>0</td><td>2</td><td>0</td></tr>\n",
       "</tbody>\n",
       "</table>\n"
      ],
      "text/latex": [
       "A tibble: 5 × 6\n",
       "\\begin{tabular}{llllll}\n",
       " age & sex & chol & cp & thal & target\\\\\n",
       " <dbl> & <dbl> & <dbl> & <dbl> & <dbl> & <dbl>\\\\\n",
       "\\hline\n",
       "\t 52 & 1 & 212 & 0 & 3 & 0\\\\\n",
       "\t 53 & 1 & 203 & 0 & 3 & 0\\\\\n",
       "\t 70 & 1 & 174 & 0 & 3 & 0\\\\\n",
       "\t 61 & 1 & 203 & 0 & 3 & 0\\\\\n",
       "\t 62 & 0 & 294 & 0 & 2 & 0\\\\\n",
       "\\end{tabular}\n"
      ],
      "text/markdown": [
       "\n",
       "A tibble: 5 × 6\n",
       "\n",
       "| age &lt;dbl&gt; | sex &lt;dbl&gt; | chol &lt;dbl&gt; | cp &lt;dbl&gt; | thal &lt;dbl&gt; | target &lt;dbl&gt; |\n",
       "|---|---|---|---|---|---|\n",
       "| 52 | 1 | 212 | 0 | 3 | 0 |\n",
       "| 53 | 1 | 203 | 0 | 3 | 0 |\n",
       "| 70 | 1 | 174 | 0 | 3 | 0 |\n",
       "| 61 | 1 | 203 | 0 | 3 | 0 |\n",
       "| 62 | 0 | 294 | 0 | 2 | 0 |\n",
       "\n"
      ],
      "text/plain": [
       "  age sex chol cp thal target\n",
       "1 52  1   212  0  3    0     \n",
       "2 53  1   203  0  3    0     \n",
       "3 70  1   174  0  3    0     \n",
       "4 61  1   203  0  3    0     \n",
       "5 62  0   294  0  2    0     "
      ]
     },
     "metadata": {},
     "output_type": "display_data"
    }
   ],
   "source": [
    "library(tidyverse)\n",
    "library(repr)\n",
    "library(dplyr)\n",
    "library(tidymodels)\n",
    "\n",
    "print(\"We started by reading in the dataset for heart disease then selecting six variables that we wanted to look at.\")\n",
    "heart_data <- read_csv(\"project_data/heart.csv\")\n",
    "  \n",
    "heart_var <- heart_data |>\n",
    "    select(age, sex, chol, cp, thal, target)\n",
    "slice(heart_var, 1:5)"
   ]
  },
  {
   "cell_type": "code",
   "execution_count": 20,
   "id": "ba04a391-3b68-4d00-b116-6c52738e61b8",
   "metadata": {},
   "outputs": [
    {
     "ename": "ERROR",
     "evalue": "Error in parse(text = x, srcfile = src): <text>:1:4: unexpected symbol\n1: We split\n       ^\n",
     "output_type": "error",
     "traceback": [
      "Error in parse(text = x, srcfile = src): <text>:1:4: unexpected symbol\n1: We split\n       ^\nTraceback:\n"
     ]
    }
   ],
   "source": [
    "We split the data with the variables we selected into a training set with 75% of the data, and a test set ith 25% of the data. To see some of the data, we used the slice function to show the first five rows. Then, we checked if there were any rows with missing data which there were not."
   ]
  },
  {
   "cell_type": "code",
   "execution_count": 8,
   "id": "69703868-c973-4ed9-9af6-cee1c4eb0407",
   "metadata": {},
   "outputs": [
    {
     "data": {
      "text/html": [
       "<table class=\"dataframe\">\n",
       "<caption>A tibble: 5 × 6</caption>\n",
       "<thead>\n",
       "\t<tr><th scope=col>age</th><th scope=col>sex</th><th scope=col>chol</th><th scope=col>cp</th><th scope=col>thal</th><th scope=col>target</th></tr>\n",
       "\t<tr><th scope=col>&lt;dbl&gt;</th><th scope=col>&lt;dbl&gt;</th><th scope=col>&lt;dbl&gt;</th><th scope=col>&lt;dbl&gt;</th><th scope=col>&lt;dbl&gt;</th><th scope=col>&lt;dbl&gt;</th></tr>\n",
       "</thead>\n",
       "<tbody>\n",
       "\t<tr><td>53</td><td>1</td><td>203</td><td>0</td><td>3</td><td>0</td></tr>\n",
       "\t<tr><td>70</td><td>1</td><td>174</td><td>0</td><td>3</td><td>0</td></tr>\n",
       "\t<tr><td>61</td><td>1</td><td>203</td><td>0</td><td>3</td><td>0</td></tr>\n",
       "\t<tr><td>46</td><td>1</td><td>249</td><td>0</td><td>3</td><td>0</td></tr>\n",
       "\t<tr><td>43</td><td>0</td><td>341</td><td>0</td><td>3</td><td>0</td></tr>\n",
       "</tbody>\n",
       "</table>\n"
      ],
      "text/latex": [
       "A tibble: 5 × 6\n",
       "\\begin{tabular}{llllll}\n",
       " age & sex & chol & cp & thal & target\\\\\n",
       " <dbl> & <dbl> & <dbl> & <dbl> & <dbl> & <dbl>\\\\\n",
       "\\hline\n",
       "\t 53 & 1 & 203 & 0 & 3 & 0\\\\\n",
       "\t 70 & 1 & 174 & 0 & 3 & 0\\\\\n",
       "\t 61 & 1 & 203 & 0 & 3 & 0\\\\\n",
       "\t 46 & 1 & 249 & 0 & 3 & 0\\\\\n",
       "\t 43 & 0 & 341 & 0 & 3 & 0\\\\\n",
       "\\end{tabular}\n"
      ],
      "text/markdown": [
       "\n",
       "A tibble: 5 × 6\n",
       "\n",
       "| age &lt;dbl&gt; | sex &lt;dbl&gt; | chol &lt;dbl&gt; | cp &lt;dbl&gt; | thal &lt;dbl&gt; | target &lt;dbl&gt; |\n",
       "|---|---|---|---|---|---|\n",
       "| 53 | 1 | 203 | 0 | 3 | 0 |\n",
       "| 70 | 1 | 174 | 0 | 3 | 0 |\n",
       "| 61 | 1 | 203 | 0 | 3 | 0 |\n",
       "| 46 | 1 | 249 | 0 | 3 | 0 |\n",
       "| 43 | 0 | 341 | 0 | 3 | 0 |\n",
       "\n"
      ],
      "text/plain": [
       "  age sex chol cp thal target\n",
       "1 53  1   203  0  3    0     \n",
       "2 70  1   174  0  3    0     \n",
       "3 61  1   203  0  3    0     \n",
       "4 46  1   249  0  3    0     \n",
       "5 43  0   341  0  3    0     "
      ]
     },
     "metadata": {},
     "output_type": "display_data"
    },
    {
     "data": {
      "text/html": [
       "0"
      ],
      "text/latex": [
       "0"
      ],
      "text/markdown": [
       "0"
      ],
      "text/plain": [
       "[1] 0"
      ]
     },
     "metadata": {},
     "output_type": "display_data"
    }
   ],
   "source": [
    "\n",
    "set.seed(3456)\n",
    "\n",
    "heart_split <- initial_split(heart_var, prop = 0.75, strata = target)  \n",
    "heart_train <- training(heart_split)   \n",
    "heart_test <- testing(heart_split)\n",
    "\n",
    "slice(heart_train, 1:5)\n",
    "sum(is.na(heart_train))"
   ]
  },
  {
   "cell_type": "code",
   "execution_count": null,
   "id": "0793c899-6d01-474b-b0ec-e3058103b685",
   "metadata": {},
   "outputs": [],
   "source": [
    "From here we began to look at each variable and if there were any trends that could be seen. The \"target\" variable shows whether each person has heart disease which is indicated with a 1, or if they do not have heart disease, 0. "
   ]
  },
  {
   "cell_type": "code",
   "execution_count": null,
   "id": "9ba529a0-1eed-47a7-91cc-a6ced7c88031",
   "metadata": {},
   "outputs": [],
   "source": []
  },
  {
   "cell_type": "markdown",
   "id": "c205aead-fddf-4e6b-a589-19890db3d37d",
   "metadata": {
    "tags": []
   },
   "source": [
    "Methods:\n",
    "Explain how you will conduct either your data analysis and which variables/columns you will use. \n",
    "Note - you do not need to use all variables/columns that exist in the raw data set. In fact, that's often not a good \n",
    "idea. For each variable think: is this a useful variable for prediction?\n",
    "Describe at least one way that you will visualize the results"
   ]
  },
  {
   "cell_type": "code",
   "execution_count": null,
   "id": "c9678983-310a-4be5-a391-b7f0dcb8eaf4",
   "metadata": {},
   "outputs": [],
   "source": [
    "To predict whether a patient has heart disease, a classifier needs to be taught and trained. This is to increase the accuracy\n",
    "of the classifier. The data will be split into a training set and a testing set in order to build an efficient and accurate model\n",
    "by first using only the training set. This will ensure that the test data does not influence the classifier model being trained.\n",
    "Because the K-nearest neighbors classification algorithm will be used, the value of K to be used must be determined. Performing \n",
    "v-fold cross-validation will determine this. The K value that yields roughly the optimal accuracy, and the value that does not drastically \n",
    "change the estimated accuracy when decreasing or increasing K by a small amount will be the best option. Now, the K-nearest neighbors \n",
    "classifier object will be used to predict the class labels of the test set and predict whether there is a presence of heart disease in the \n",
    "patient. The patient will be evaluated with an integer value of 0 or 1 in the \"target\" field; 0 = no disease; 1 = disease.\n",
    "The variables considered in the data analysis will be: ..."
   ]
  },
  {
   "cell_type": "code",
   "execution_count": null,
   "id": "6695a588-68db-4a8b-b51c-a5b3734f1f3b",
   "metadata": {},
   "outputs": [],
   "source": [
    "Expected outcomes and significance:\n",
    "What do you expect to find?\n",
    "What impact could such findings have?\n",
    "What future questions could this lead to?"
   ]
  }
 ],
 "metadata": {
  "kernelspec": {
   "display_name": "R",
   "language": "R",
   "name": "ir"
  },
  "language_info": {
   "codemirror_mode": "r",
   "file_extension": ".r",
   "mimetype": "text/x-r-source",
   "name": "R",
   "pygments_lexer": "r",
   "version": "4.1.3"
  },
  "toc-autonumbering": false
 },
 "nbformat": 4,
 "nbformat_minor": 5
}
