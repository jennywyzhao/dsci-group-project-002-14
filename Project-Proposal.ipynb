{
 "cells": [
  {
   "cell_type": "markdown",
   "id": "0dbbe027-77a7-4ab6-8f74-8665da1fa31a",
   "metadata": {},
   "source": [
    "## Predicting Heart Disease"
   ]
  },
  {
   "cell_type": "markdown",
   "id": "374b3228-71a1-4538-8fa7-c7c34eb17c2f",
   "metadata": {},
   "source": [
    "### Introduction:\n",
    "\n",
    " "
   ]
  },
  {
   "cell_type": "markdown",
   "id": "0728d171-b0a4-4939-b9b7-f1668be59fa5",
   "metadata": {},
   "source": [
    "Heart disease is an umbrella term for a vast range of conditions that affect the heart. Stroke, heart attack, cardiomyopathy, and angina are all \n",
    "examples of heart disease (Heart&Stroke, 2023). Leading risk factors for heart disease are high blood pressure and cholesterol, obesity, unhealthy diet, and physical inactivity.\n",
    "Based on a dataset from 1988 consisting of 4 databases, Cleveland, Hungary, Switzerland, and Long Beach V, heart disease could be predicted \n",
    "in a patient by looking at 14 attributes. Of these attributes, 5 will be observed in order to successfully determine the presence of heart disease\n",
    "in a patient. The predictive question being asked is, \"By considering age, exercise induced angina, serum cholesterol levels, and resting blood pressure, can heart disease in a patient be predicted?\". "
   ]
  },
  {
   "cell_type": "markdown",
   "id": "8f5356c7-9f7d-433a-8797-e88d510f7009",
   "metadata": {},
   "source": [
    "### Preliminary Exploratory Data Analysis:\n"
   ]
  },
  {
   "cell_type": "markdown",
   "id": "90fc3b10-8c3e-494b-9861-4e322979da79",
   "metadata": {},
   "source": [
    "We first started by reading in the heart data, using read_csv as, the data was comma separated. Then, we selected the predictors we wanted use, and checked if there were any missing values in the data set using the \"sum(is.na())\" function."
   ]
  },
  {
   "cell_type": "code",
   "execution_count": 8,
   "id": "d83dd354-4922-4e58-98a7-9df0129f212c",
   "metadata": {},
   "outputs": [
    {
     "name": "stderr",
     "output_type": "stream",
     "text": [
      "\u001b[1mRows: \u001b[22m\u001b[34m1025\u001b[39m \u001b[1mColumns: \u001b[22m\u001b[34m14\u001b[39m\n",
      "\u001b[36m──\u001b[39m \u001b[1mColumn specification\u001b[22m \u001b[36m────────────────────────────────────────────────────────\u001b[39m\n",
      "\u001b[1mDelimiter:\u001b[22m \",\"\n",
      "\u001b[32mdbl\u001b[39m (14): age, sex, cp, trestbps, chol, fbs, restecg, thalach, exang, oldpea...\n",
      "\n",
      "\u001b[36mℹ\u001b[39m Use `spec()` to retrieve the full column specification for this data.\n",
      "\u001b[36mℹ\u001b[39m Specify the column types or set `show_col_types = FALSE` to quiet this message.\n"
     ]
    },
    {
     "data": {
      "text/html": [
       "<table class=\"dataframe\">\n",
       "<caption>A tibble: 5 × 6</caption>\n",
       "<thead>\n",
       "\t<tr><th scope=col>age</th><th scope=col>exang</th><th scope=col>chol</th><th scope=col>cp</th><th scope=col>trestbps</th><th scope=col>target</th></tr>\n",
       "\t<tr><th scope=col>&lt;dbl&gt;</th><th scope=col>&lt;dbl&gt;</th><th scope=col>&lt;dbl&gt;</th><th scope=col>&lt;dbl&gt;</th><th scope=col>&lt;dbl&gt;</th><th scope=col>&lt;dbl&gt;</th></tr>\n",
       "</thead>\n",
       "<tbody>\n",
       "\t<tr><td>52</td><td>0</td><td>212</td><td>0</td><td>125</td><td>0</td></tr>\n",
       "\t<tr><td>53</td><td>1</td><td>203</td><td>0</td><td>140</td><td>0</td></tr>\n",
       "\t<tr><td>70</td><td>1</td><td>174</td><td>0</td><td>145</td><td>0</td></tr>\n",
       "\t<tr><td>61</td><td>0</td><td>203</td><td>0</td><td>148</td><td>0</td></tr>\n",
       "\t<tr><td>62</td><td>0</td><td>294</td><td>0</td><td>138</td><td>0</td></tr>\n",
       "</tbody>\n",
       "</table>\n"
      ],
      "text/latex": [
       "A tibble: 5 × 6\n",
       "\\begin{tabular}{llllll}\n",
       " age & exang & chol & cp & trestbps & target\\\\\n",
       " <dbl> & <dbl> & <dbl> & <dbl> & <dbl> & <dbl>\\\\\n",
       "\\hline\n",
       "\t 52 & 0 & 212 & 0 & 125 & 0\\\\\n",
       "\t 53 & 1 & 203 & 0 & 140 & 0\\\\\n",
       "\t 70 & 1 & 174 & 0 & 145 & 0\\\\\n",
       "\t 61 & 0 & 203 & 0 & 148 & 0\\\\\n",
       "\t 62 & 0 & 294 & 0 & 138 & 0\\\\\n",
       "\\end{tabular}\n"
      ],
      "text/markdown": [
       "\n",
       "A tibble: 5 × 6\n",
       "\n",
       "| age &lt;dbl&gt; | exang &lt;dbl&gt; | chol &lt;dbl&gt; | cp &lt;dbl&gt; | trestbps &lt;dbl&gt; | target &lt;dbl&gt; |\n",
       "|---|---|---|---|---|---|\n",
       "| 52 | 0 | 212 | 0 | 125 | 0 |\n",
       "| 53 | 1 | 203 | 0 | 140 | 0 |\n",
       "| 70 | 1 | 174 | 0 | 145 | 0 |\n",
       "| 61 | 0 | 203 | 0 | 148 | 0 |\n",
       "| 62 | 0 | 294 | 0 | 138 | 0 |\n",
       "\n"
      ],
      "text/plain": [
       "  age exang chol cp trestbps target\n",
       "1 52  0     212  0  125      0     \n",
       "2 53  1     203  0  140      0     \n",
       "3 70  1     174  0  145      0     \n",
       "4 61  0     203  0  148      0     \n",
       "5 62  0     294  0  138      0     "
      ]
     },
     "metadata": {},
     "output_type": "display_data"
    },
    {
     "data": {
      "text/html": [
       "0"
      ],
      "text/latex": [
       "0"
      ],
      "text/markdown": [
       "0"
      ],
      "text/plain": [
       "[1] 0"
      ]
     },
     "metadata": {},
     "output_type": "display_data"
    }
   ],
   "source": [
    "library(tidyverse)\n",
    "library(repr)\n",
    "library(dplyr)\n",
    "library(tidymodels)\n",
    "library(ggplot2)\n",
    "\n",
    "\n",
    "heart_data <- read_csv(\"project_data/heart.csv\")\n",
    "\n",
    "heart_var <- heart_data |>\n",
    "    select(age, exang, chol, cp, trestbps, target)\n",
    "slice(heart_var, 1:5)\n",
    "sum(is.na(heart_data))\n",
    "\n"
   ]
  },
  {
   "cell_type": "markdown",
   "id": "75b1ebd8-f861-4c09-8168-67d544b054bf",
   "metadata": {},
   "source": [
    "From there, we split the data with the variables we selected into a training set with 75% of the data, and a testing set with 25% of the data. To see some of the data, we used the slice function to show the first five rows. "
   ]
  },
  {
   "cell_type": "code",
   "execution_count": 9,
   "id": "69703868-c973-4ed9-9af6-cee1c4eb0407",
   "metadata": {},
   "outputs": [
    {
     "data": {
      "text/html": [
       "<table class=\"dataframe\">\n",
       "<caption>A tibble: 5 × 6</caption>\n",
       "<thead>\n",
       "\t<tr><th scope=col>age</th><th scope=col>exang</th><th scope=col>chol</th><th scope=col>cp</th><th scope=col>trestbps</th><th scope=col>target</th></tr>\n",
       "\t<tr><th scope=col>&lt;dbl&gt;</th><th scope=col>&lt;dbl&gt;</th><th scope=col>&lt;dbl&gt;</th><th scope=col>&lt;dbl&gt;</th><th scope=col>&lt;dbl&gt;</th><th scope=col>&lt;dbl&gt;</th></tr>\n",
       "</thead>\n",
       "<tbody>\n",
       "\t<tr><td>53</td><td>1</td><td>203</td><td>0</td><td>140</td><td>0</td></tr>\n",
       "\t<tr><td>70</td><td>1</td><td>174</td><td>0</td><td>145</td><td>0</td></tr>\n",
       "\t<tr><td>61</td><td>0</td><td>203</td><td>0</td><td>148</td><td>0</td></tr>\n",
       "\t<tr><td>46</td><td>0</td><td>249</td><td>0</td><td>120</td><td>0</td></tr>\n",
       "\t<tr><td>43</td><td>1</td><td>341</td><td>0</td><td>132</td><td>0</td></tr>\n",
       "</tbody>\n",
       "</table>\n"
      ],
      "text/latex": [
       "A tibble: 5 × 6\n",
       "\\begin{tabular}{llllll}\n",
       " age & exang & chol & cp & trestbps & target\\\\\n",
       " <dbl> & <dbl> & <dbl> & <dbl> & <dbl> & <dbl>\\\\\n",
       "\\hline\n",
       "\t 53 & 1 & 203 & 0 & 140 & 0\\\\\n",
       "\t 70 & 1 & 174 & 0 & 145 & 0\\\\\n",
       "\t 61 & 0 & 203 & 0 & 148 & 0\\\\\n",
       "\t 46 & 0 & 249 & 0 & 120 & 0\\\\\n",
       "\t 43 & 1 & 341 & 0 & 132 & 0\\\\\n",
       "\\end{tabular}\n"
      ],
      "text/markdown": [
       "\n",
       "A tibble: 5 × 6\n",
       "\n",
       "| age &lt;dbl&gt; | exang &lt;dbl&gt; | chol &lt;dbl&gt; | cp &lt;dbl&gt; | trestbps &lt;dbl&gt; | target &lt;dbl&gt; |\n",
       "|---|---|---|---|---|---|\n",
       "| 53 | 1 | 203 | 0 | 140 | 0 |\n",
       "| 70 | 1 | 174 | 0 | 145 | 0 |\n",
       "| 61 | 0 | 203 | 0 | 148 | 0 |\n",
       "| 46 | 0 | 249 | 0 | 120 | 0 |\n",
       "| 43 | 1 | 341 | 0 | 132 | 0 |\n",
       "\n"
      ],
      "text/plain": [
       "  age exang chol cp trestbps target\n",
       "1 53  1     203  0  140      0     \n",
       "2 70  1     174  0  145      0     \n",
       "3 61  0     203  0  148      0     \n",
       "4 46  0     249  0  120      0     \n",
       "5 43  1     341  0  132      0     "
      ]
     },
     "metadata": {},
     "output_type": "display_data"
    }
   ],
   "source": [
    "set.seed(3456)\n",
    "\n",
    "heart_split <- initial_split(heart_var, prop = 0.75, strata = target)  \n",
    "heart_train <- training(heart_split)   \n",
    "heart_test <- testing(heart_split)\n",
    "\n",
    "slice(heart_train, 1:5)"
   ]
  },
  {
   "cell_type": "markdown",
   "id": "c5b889a3-fee0-4126-9f47-09ce92033fda",
   "metadata": {},
   "source": [
    "Since some of the variables we chose have values representing a condition, e.g. the exercise induced angina variable uses a \"1\" to represent yes and \"0\" to represent no, we split them into their own smaller data frames that show the total number of a specific value to better visualize the data. Both the cp, chest pain, and exang, exercise induced angina variables were organized as such. For variables such as chol, serum cholesterol levels, and trestbps, resting blood pressure be found the number of individuals with a sepecific cholesterol level or blood pressure in a similar way to see the distribution of people."
   ]
  },
  {
   "cell_type": "code",
   "execution_count": 10,
   "id": "228538ad-496f-4a0b-8e9a-6f3edf4b97c2",
   "metadata": {},
   "outputs": [
    {
     "data": {
      "text/html": [
       "<table class=\"dataframe\">\n",
       "<caption>A tibble: 4 × 2</caption>\n",
       "<thead>\n",
       "\t<tr><th scope=col>cp</th><th scope=col>counts</th></tr>\n",
       "\t<tr><th scope=col>&lt;dbl&gt;</th><th scope=col>&lt;int&gt;</th></tr>\n",
       "</thead>\n",
       "<tbody>\n",
       "\t<tr><td>0</td><td>380</td></tr>\n",
       "\t<tr><td>1</td><td>124</td></tr>\n",
       "\t<tr><td>2</td><td>209</td></tr>\n",
       "\t<tr><td>3</td><td> 55</td></tr>\n",
       "</tbody>\n",
       "</table>\n"
      ],
      "text/latex": [
       "A tibble: 4 × 2\n",
       "\\begin{tabular}{ll}\n",
       " cp & counts\\\\\n",
       " <dbl> & <int>\\\\\n",
       "\\hline\n",
       "\t 0 & 380\\\\\n",
       "\t 1 & 124\\\\\n",
       "\t 2 & 209\\\\\n",
       "\t 3 &  55\\\\\n",
       "\\end{tabular}\n"
      ],
      "text/markdown": [
       "\n",
       "A tibble: 4 × 2\n",
       "\n",
       "| cp &lt;dbl&gt; | counts &lt;int&gt; |\n",
       "|---|---|\n",
       "| 0 | 380 |\n",
       "| 1 | 124 |\n",
       "| 2 | 209 |\n",
       "| 3 |  55 |\n",
       "\n"
      ],
      "text/plain": [
       "  cp counts\n",
       "1 0  380   \n",
       "2 1  124   \n",
       "3 2  209   \n",
       "4 3   55   "
      ]
     },
     "metadata": {},
     "output_type": "display_data"
    },
    {
     "data": {
      "text/html": [
       "<table class=\"dataframe\">\n",
       "<caption>A tibble: 2 × 2</caption>\n",
       "<thead>\n",
       "\t<tr><th scope=col>exang</th><th scope=col>counts</th></tr>\n",
       "\t<tr><th scope=col>&lt;dbl&gt;</th><th scope=col>&lt;int&gt;</th></tr>\n",
       "</thead>\n",
       "<tbody>\n",
       "\t<tr><td>0</td><td>510</td></tr>\n",
       "\t<tr><td>1</td><td>258</td></tr>\n",
       "</tbody>\n",
       "</table>\n"
      ],
      "text/latex": [
       "A tibble: 2 × 2\n",
       "\\begin{tabular}{ll}\n",
       " exang & counts\\\\\n",
       " <dbl> & <int>\\\\\n",
       "\\hline\n",
       "\t 0 & 510\\\\\n",
       "\t 1 & 258\\\\\n",
       "\\end{tabular}\n"
      ],
      "text/markdown": [
       "\n",
       "A tibble: 2 × 2\n",
       "\n",
       "| exang &lt;dbl&gt; | counts &lt;int&gt; |\n",
       "|---|---|\n",
       "| 0 | 510 |\n",
       "| 1 | 258 |\n",
       "\n"
      ],
      "text/plain": [
       "  exang counts\n",
       "1 0     510   \n",
       "2 1     258   "
      ]
     },
     "metadata": {},
     "output_type": "display_data"
    },
    {
     "data": {
      "text/html": [
       "<table class=\"dataframe\">\n",
       "<caption>A tibble: 3 × 2</caption>\n",
       "<thead>\n",
       "\t<tr><th scope=col>trestbps</th><th scope=col>counts</th></tr>\n",
       "\t<tr><th scope=col>&lt;dbl&gt;</th><th scope=col>&lt;int&gt;</th></tr>\n",
       "</thead>\n",
       "<tbody>\n",
       "\t<tr><td> 94</td><td>4</td></tr>\n",
       "\t<tr><td>100</td><td>8</td></tr>\n",
       "\t<tr><td>101</td><td>3</td></tr>\n",
       "</tbody>\n",
       "</table>\n"
      ],
      "text/latex": [
       "A tibble: 3 × 2\n",
       "\\begin{tabular}{ll}\n",
       " trestbps & counts\\\\\n",
       " <dbl> & <int>\\\\\n",
       "\\hline\n",
       "\t  94 & 4\\\\\n",
       "\t 100 & 8\\\\\n",
       "\t 101 & 3\\\\\n",
       "\\end{tabular}\n"
      ],
      "text/markdown": [
       "\n",
       "A tibble: 3 × 2\n",
       "\n",
       "| trestbps &lt;dbl&gt; | counts &lt;int&gt; |\n",
       "|---|---|\n",
       "|  94 | 4 |\n",
       "| 100 | 8 |\n",
       "| 101 | 3 |\n",
       "\n"
      ],
      "text/plain": [
       "  trestbps counts\n",
       "1  94      4     \n",
       "2 100      8     \n",
       "3 101      3     "
      ]
     },
     "metadata": {},
     "output_type": "display_data"
    },
    {
     "data": {
      "text/html": [
       "<table class=\"dataframe\">\n",
       "<caption>A tibble: 3 × 2</caption>\n",
       "<thead>\n",
       "\t<tr><th scope=col>age</th><th scope=col>counts</th></tr>\n",
       "\t<tr><th scope=col>&lt;dbl&gt;</th><th scope=col>&lt;int&gt;</th></tr>\n",
       "</thead>\n",
       "<tbody>\n",
       "\t<tr><td>29</td><td> 2</td></tr>\n",
       "\t<tr><td>34</td><td> 4</td></tr>\n",
       "\t<tr><td>35</td><td>11</td></tr>\n",
       "</tbody>\n",
       "</table>\n"
      ],
      "text/latex": [
       "A tibble: 3 × 2\n",
       "\\begin{tabular}{ll}\n",
       " age & counts\\\\\n",
       " <dbl> & <int>\\\\\n",
       "\\hline\n",
       "\t 29 &  2\\\\\n",
       "\t 34 &  4\\\\\n",
       "\t 35 & 11\\\\\n",
       "\\end{tabular}\n"
      ],
      "text/markdown": [
       "\n",
       "A tibble: 3 × 2\n",
       "\n",
       "| age &lt;dbl&gt; | counts &lt;int&gt; |\n",
       "|---|---|\n",
       "| 29 |  2 |\n",
       "| 34 |  4 |\n",
       "| 35 | 11 |\n",
       "\n"
      ],
      "text/plain": [
       "  age counts\n",
       "1 29   2    \n",
       "2 34   4    \n",
       "3 35  11    "
      ]
     },
     "metadata": {},
     "output_type": "display_data"
    }
   ],
   "source": [
    "cp_val <- heart_train |>\n",
    "  group_by(cp)|>\n",
    "  summarise(counts = n())\n",
    "cp_val\n",
    "\n",
    "exang_val <- heart_train |>\n",
    "   group_by(exang)|>\n",
    "   summarise(counts=n())\n",
    "exang_val\n",
    "\n",
    "\n",
    "chol_val <- heart_train |>\n",
    "   group_by(chol)|>\n",
    "   summarise(counts=n(),\n",
    "            .groups = 'drop')\n",
    "\n",
    "\n",
    "\n",
    "trestbps_val <- heart_train |> \n",
    "       group_by(trestbps) |> \n",
    "  summarise(counts=n(),\n",
    "            .groups = 'drop')\n",
    "slice(trestbps_val, (1:3))\n",
    "\n",
    "age_val <- heart_train |> \n",
    "       group_by(age) |> \n",
    "  summarise(counts=n(),\n",
    "            .groups = 'drop')\n",
    "slice(age_val, (1:3))\n"
   ]
  },
  {
   "cell_type": "markdown",
   "id": "577c8e11-9ba5-4990-85b8-96f63acb6ce5",
   "metadata": {},
   "source": [
    "From here, we could better visualize what the distributions of the data looks like by creating individual graphs that present each variable. To do so, we chose bar graphs as, we found the sum of individuals for a specific value for each variable. Using a bar graph would make the distinctions clearer."
   ]
  },
  {
   "cell_type": "code",
   "execution_count": 13,
   "id": "9ba529a0-1eed-47a7-91cc-a6ced7c88031",
   "metadata": {},
   "outputs": [
    {
     "ename": "ERROR",
     "evalue": "Error in grid.arrange(cp_plot, exang_plot, ncol = 2): could not find function \"grid.arrange\"\n",
     "output_type": "error",
     "traceback": [
      "Error in grid.arrange(cp_plot, exang_plot, ncol = 2): could not find function \"grid.arrange\"\nTraceback:\n"
     ]
    }
   ],
   "source": [
    "options(repr.plot.width = 30, repr.plot.height = 10)\n",
    "\n",
    "cp_plot <- ggplot(cp_val, aes(x = cp, y = counts)) +\n",
    "  geom_bar(stat = \"identity\")+\n",
    "  labs(x = \"Chest Pain Type\", y = \"Number of People\") +\n",
    "  theme(text = element_text(size = 15))\n",
    "\n",
    "exang_plot <- ggplot(exang_val, aes(x = exang, y = counts)) +\n",
    "  geom_bar(stat = \"identity\")+\n",
    "  labs(x = \"Exercise Induced Angina\", y = \"Number of People\") +\n",
    "  theme(text = element_text(size = 15))\n",
    "\n",
    "\n",
    "grid.arrange(cp_plot, exang_plot, ncol = 2)\n",
    "grid.arrange(chol_plot, trestbps_plot, ncol = 2)\n",
    "\n",
    "chol_plot <-  ggplot(chol_val, aes(x = chol, y = counts)) +\n",
    "  geom_bar(stat = \"identity\")+\n",
    "  labs(x = \"Serum Cholesterol Levels (mg/dL)\", y = \"Number of Individuals\")+\n",
    "  theme(text = element_text(size = 20))\n",
    "\n",
    "trestbps_plot <-  ggplot(trestbps_val, aes(x = trestbps, y = counts)) +\n",
    "  geom_bar(stat = \"identity\")+\n",
    "  labs(x = \"Resting Blood Pressure (mmHg)\", y = \"Number of Individuals\") +\n",
    "  theme(text = element_text(size = 15))\n",
    "\n"
   ]
  },
  {
   "cell_type": "markdown",
   "id": "15f1ea71-b3ca-4a23-a4ae-9d8bd5d905cf",
   "metadata": {
    "tags": []
   },
   "source": [
    "### Methods:\n"
   ]
  },
  {
   "cell_type": "markdown",
   "id": "76b6b2f7-a3da-4841-ae13-1fd78f89ee3e",
   "metadata": {},
   "source": [
    "Generally, as age increases, the risk of heart disease also increases due to factors resulting from aging (NIH, 2023). Angina is a type of chest pain that is often associated with different types of heart disease with one being coronary artery disease (Mayo Clinic Staff, 2022). According to Medical New Today, a persons serum cholesterol level can indicated their risks of developing heart disease, making it a good variable to explore (Jennifer Huizen , 2021). Lastly, we wanted to look at resting blood pressure as, risks of heart disease tend to increase in people with higher resting blood pressures (Joseph A. Hill, M.D., Ph.D., 2016).\n",
    "\n",
    "To predict whether a patient has heart disease, a classifier needs to be taught and trained to increase its accuracy. This will be done by first using the training data split previously in order to build an efficient and accurate model that we can test using the testing set. This will ensure that the test data does not influence the classifier model being trained.\n",
    "Since the K-nearest neighbors classification algorithm will be used, the most ideal value of K will be determined by performing\n",
    "v-fold cross-validation with 5 folds. The K value that yields the most optimal accuracy, and does not drastically \n",
    "change the estimated accuracy when decreasing or increasing K by a small amount will be the best option. The K-nearest neighbors \n",
    "classifier object will be used to predict the class labels of the test set and predict whether there is a presence of heart disease in the \n",
    "patient. The patient will be evaluated with an integer value of 0 or 1 in the \"target\" field; 0 = no disease; 1 = disease.\n",
    "The variables considered in the data analysis will be: age, exercise induced angina, serum cholesterol levels, chest pain, and resting blood pressure. To visualize our findings, we can use pie charts to show the perentage of correct and incorrect classifications in a distinct manner. \n"
   ]
  },
  {
   "cell_type": "markdown",
   "id": "e88354be-4109-49ce-af31-40f56df0e882",
   "metadata": {},
   "source": [
    "### Expected outcomes and significance:\n"
   ]
  },
  {
   "cell_type": "markdown",
   "id": "dafb0962-b9d3-4f1f-aaa4-040c35be1771",
   "metadata": {},
   "source": [
    "We are hoping to find a model that can predict the presence of heart disease based on the variables chosen with limited error. This could help lead to earlier diagnoses of heart disease and increase the chances of recovery and/or survival. Recognizing the possibility of heart disease early on is important for patients, and thus, this project will allow for recognition of patterns seen in the five variables that may indicate the possibility of heart disease in younger patients. This type of model could lead to future questions of how prevalent death by heart disease will be, and how the rate of survival from heart disease might change."
   ]
  },
  {
   "cell_type": "markdown",
   "id": "068d9f69-0eca-4602-bce3-930bcccb0d2c",
   "metadata": {},
   "source": [
    "### Bibliography:"
   ]
  },
  {
   "cell_type": "markdown",
   "id": "1977b864-a559-4967-a603-fae1ced248ef",
   "metadata": {},
   "source": [
    "Lapp, D. (2019, June 6). Heart disease dataset. Kaggle. Retrieved March 6, 2023, from https://www.kaggle.com/datasets/johnsmith88/heart-disease-dataset?resource=download \n",
    "\n",
    "Mayo Foundation for Medical Education and Research. (2022, March 30). Angina. Mayo Clinic. Retrieved March 9, 2023, from https://www.mayoclinic.org/diseases-conditions/angina/symptoms-causes/syc-20369373#:~:text=Angina%20(an%2DJIE%2Dnuh,or%20pain%20in%20the%20chest. \n",
    "\n",
    "MediLexicon International. (n.d.). Serum cholesterol: What to know and how to manage levels. Medical News Today. Retrieved March 9, 2023, from https://www.medicalnewstoday.com/articles/321519#:~:text=A%20person's%20serum%20cholesterol%20level,of%20fat%20bundled%20with%20cholesterol. \n",
    "\n",
    "Types of heart disease. Heart and Stroke Foundation of Canada. (n.d.). Retrieved March 7, 2023, from https://www.heartandstroke.ca/heart-disease/what-is-heart-disease/types-of-heart-disease \n",
    "\n",
    "U.S. Department of Health and Human Services. (n.d.). Heart health and aging. National Institute on Aging. Retrieved March 8, 2023, from https://www.nia.nih.gov/health/heart-health-and-aging#:~:text=Adults%20age%2065%20and%20older,risk%20of%20developing%20cardiovascular%20disease. \n",
    "\n",
    "Under pressure: How blood pressure affects heart disease risk: Heart: UT southwestern medical center. Heart | UT Southwestern Medical Center. (n.d.). Retrieved March 9, 2023, from https://utswmed.org/medblog/high-blood-pressure-heart-disease/#:~:text=For%20the%20average%20person%20who,at%20risk%20for%20heart%20disease. "
   ]
  },
  {
   "cell_type": "code",
   "execution_count": null,
   "id": "7c9f31dc-ea23-4447-8d78-d69bbe4e7499",
   "metadata": {},
   "outputs": [],
   "source": []
  }
 ],
 "metadata": {
  "kernelspec": {
   "display_name": "R",
   "language": "R",
   "name": "ir"
  },
  "language_info": {
   "codemirror_mode": "r",
   "file_extension": ".r",
   "mimetype": "text/x-r-source",
   "name": "R",
   "pygments_lexer": "r",
   "version": "4.1.3"
  },
  "toc-autonumbering": false
 },
 "nbformat": 4,
 "nbformat_minor": 5
}
