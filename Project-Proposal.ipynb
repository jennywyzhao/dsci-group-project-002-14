{
 "cells": [
  {
   "cell_type": "markdown",
   "id": "0dbbe027-77a7-4ab6-8f74-8665da1fa31a",
   "metadata": {},
   "source": [
    "## Title: "
   ]
  },
  {
   "cell_type": "markdown",
   "id": "374b3228-71a1-4538-8fa7-c7c34eb17c2f",
   "metadata": {},
   "source": [
    "### Introduction:\n",
    "Provide some relevant background information on the topic so that someone unfamiliar with it will be prepared to understand the rest of your proposal\n",
    "Clearly state the question you will try to answer with your project\n",
    "Identify and describe the dataset that will be used to answer the question\n",
    " "
   ]
  },
  {
   "cell_type": "markdown",
   "id": "0728d171-b0a4-4939-b9b7-f1668be59fa5",
   "metadata": {},
   "source": [
    "Heart disease is an umbrella term for a vast range of conditions that affect the heart. Stroke, heart attack, cardiomyopathy, and angina are all \n",
    "examples of heart disease. Leading risk factors for heart disease are high blood pressure and cholesterol, obesity, unhealthy diet, and physical inactivity.\n",
    "Based on a dataset from 1988 consisting of 4 databases, Cleveland, Hungary, Switzerland, and Long Beach V, heart disease could be predicted \n",
    "in a patient by looking at 14 attributes. Of these attributes, 5 will be observed in order to successfully determine the presence of heart disease\n",
    "in a patient. The predictive question being asked is, \"By considering age, sex, serum cholesterol, and maximum heart rate achieved, can heart disease in a patient be predicted?\". It is important \n",
    "to answer this question because heart disease is evidently fatal, and an early diagnosis increases the chances of recovery and/or \n",
    "survival. Though treatment varies based on the type and cause of the disease, changes in lifestyle and habits can influence the risk of heart disease significantly.\n",
    "Recognizing the possibility of heart disease early on is important for patients, and thus, this project will allow for recognition of patterns seen in the five variables that may indicate the possibility of heart disease in younger patients."
   ]
  },
  {
   "cell_type": "markdown",
   "id": "8f5356c7-9f7d-433a-8797-e88d510f7009",
   "metadata": {},
   "source": [
    "### Preliminary exploratory data analysis:\n",
    "\n",
    "\n",
    "Demonstrate that the dataset can be read from the web into R \n",
    "Clean and wrangle your data into a tidy format\n",
    "Using only training data, summarize the data in at least one table (this is exploratory data analysis). An example of a useful table could be one that reports the number of observations in each class, the means of the predictor variables you plan to use in your analysis and how many rows have missing data. \n",
    "Using only training data, visualize the data with at least one plot relevant to the analysis you plan to do (this is exploratory data analysis). An example of a useful visualization could be one that compares the distributions of each of the predictor variables you plan to use in your analysis."
   ]
  },
  {
   "cell_type": "markdown",
   "id": "90fc3b10-8c3e-494b-9861-4e322979da79",
   "metadata": {},
   "source": [
    "We first started by reading in the heart data, and selecting the predictors we wanted use."
   ]
  },
  {
   "cell_type": "code",
   "execution_count": 10,
   "id": "d83dd354-4922-4e58-98a7-9df0129f212c",
   "metadata": {},
   "outputs": [
    {
     "name": "stderr",
     "output_type": "stream",
     "text": [
      "\u001b[1mRows: \u001b[22m\u001b[34m1025\u001b[39m \u001b[1mColumns: \u001b[22m\u001b[34m14\u001b[39m\n",
      "\u001b[36m──\u001b[39m \u001b[1mColumn specification\u001b[22m \u001b[36m────────────────────────────────────────────────────────\u001b[39m\n",
      "\u001b[1mDelimiter:\u001b[22m \",\"\n",
      "\u001b[32mdbl\u001b[39m (14): age, sex, cp, trestbps, chol, fbs, restecg, thalach, exang, oldpea...\n",
      "\n",
      "\u001b[36mℹ\u001b[39m Use `spec()` to retrieve the full column specification for this data.\n",
      "\u001b[36mℹ\u001b[39m Specify the column types or set `show_col_types = FALSE` to quiet this message.\n"
     ]
    },
    {
     "data": {
      "text/html": [
       "<table class=\"dataframe\">\n",
       "<caption>A tibble: 5 × 6</caption>\n",
       "<thead>\n",
       "\t<tr><th scope=col>age</th><th scope=col>sex</th><th scope=col>chol</th><th scope=col>cp</th><th scope=col>thal</th><th scope=col>target</th></tr>\n",
       "\t<tr><th scope=col>&lt;dbl&gt;</th><th scope=col>&lt;dbl&gt;</th><th scope=col>&lt;dbl&gt;</th><th scope=col>&lt;dbl&gt;</th><th scope=col>&lt;dbl&gt;</th><th scope=col>&lt;dbl&gt;</th></tr>\n",
       "</thead>\n",
       "<tbody>\n",
       "\t<tr><td>52</td><td>1</td><td>212</td><td>0</td><td>3</td><td>0</td></tr>\n",
       "\t<tr><td>53</td><td>1</td><td>203</td><td>0</td><td>3</td><td>0</td></tr>\n",
       "\t<tr><td>70</td><td>1</td><td>174</td><td>0</td><td>3</td><td>0</td></tr>\n",
       "\t<tr><td>61</td><td>1</td><td>203</td><td>0</td><td>3</td><td>0</td></tr>\n",
       "\t<tr><td>62</td><td>0</td><td>294</td><td>0</td><td>2</td><td>0</td></tr>\n",
       "</tbody>\n",
       "</table>\n"
      ],
      "text/latex": [
       "A tibble: 5 × 6\n",
       "\\begin{tabular}{llllll}\n",
       " age & sex & chol & cp & thal & target\\\\\n",
       " <dbl> & <dbl> & <dbl> & <dbl> & <dbl> & <dbl>\\\\\n",
       "\\hline\n",
       "\t 52 & 1 & 212 & 0 & 3 & 0\\\\\n",
       "\t 53 & 1 & 203 & 0 & 3 & 0\\\\\n",
       "\t 70 & 1 & 174 & 0 & 3 & 0\\\\\n",
       "\t 61 & 1 & 203 & 0 & 3 & 0\\\\\n",
       "\t 62 & 0 & 294 & 0 & 2 & 0\\\\\n",
       "\\end{tabular}\n"
      ],
      "text/markdown": [
       "\n",
       "A tibble: 5 × 6\n",
       "\n",
       "| age &lt;dbl&gt; | sex &lt;dbl&gt; | chol &lt;dbl&gt; | cp &lt;dbl&gt; | thal &lt;dbl&gt; | target &lt;dbl&gt; |\n",
       "|---|---|---|---|---|---|\n",
       "| 52 | 1 | 212 | 0 | 3 | 0 |\n",
       "| 53 | 1 | 203 | 0 | 3 | 0 |\n",
       "| 70 | 1 | 174 | 0 | 3 | 0 |\n",
       "| 61 | 1 | 203 | 0 | 3 | 0 |\n",
       "| 62 | 0 | 294 | 0 | 2 | 0 |\n",
       "\n"
      ],
      "text/plain": [
       "  age sex chol cp thal target\n",
       "1 52  1   212  0  3    0     \n",
       "2 53  1   203  0  3    0     \n",
       "3 70  1   174  0  3    0     \n",
       "4 61  1   203  0  3    0     \n",
       "5 62  0   294  0  2    0     "
      ]
     },
     "metadata": {},
     "output_type": "display_data"
    }
   ],
   "source": [
    "library(tidyverse)\n",
    "library(repr)\n",
    "library(dplyr)\n",
    "library(tidymodels)\n",
    "\n",
    "heart_data <- read_csv(\"project_data/heart.csv\")\n",
    "  \n",
    "heart_var <- heart_data |>\n",
    "    select(age, sex, chol, cp, thal, target)\n",
    "slice(heart_var, 1:5)"
   ]
  },
  {
   "cell_type": "markdown",
   "id": "75b1ebd8-f861-4c09-8168-67d544b054bf",
   "metadata": {},
   "source": [
    "We split the data with the variables we selected into a training set with 75% of the data, and a test set ith 25% of the data. To see some of the data, we used the slice function to show the first five rows. Then, we checked if there were any rows with missing data which there were not."
   ]
  },
  {
   "cell_type": "code",
   "execution_count": 8,
   "id": "69703868-c973-4ed9-9af6-cee1c4eb0407",
   "metadata": {},
   "outputs": [
    {
     "data": {
      "text/html": [
       "<table class=\"dataframe\">\n",
       "<caption>A tibble: 5 × 6</caption>\n",
       "<thead>\n",
       "\t<tr><th scope=col>age</th><th scope=col>sex</th><th scope=col>chol</th><th scope=col>cp</th><th scope=col>thal</th><th scope=col>target</th></tr>\n",
       "\t<tr><th scope=col>&lt;dbl&gt;</th><th scope=col>&lt;dbl&gt;</th><th scope=col>&lt;dbl&gt;</th><th scope=col>&lt;dbl&gt;</th><th scope=col>&lt;dbl&gt;</th><th scope=col>&lt;dbl&gt;</th></tr>\n",
       "</thead>\n",
       "<tbody>\n",
       "\t<tr><td>53</td><td>1</td><td>203</td><td>0</td><td>3</td><td>0</td></tr>\n",
       "\t<tr><td>70</td><td>1</td><td>174</td><td>0</td><td>3</td><td>0</td></tr>\n",
       "\t<tr><td>61</td><td>1</td><td>203</td><td>0</td><td>3</td><td>0</td></tr>\n",
       "\t<tr><td>46</td><td>1</td><td>249</td><td>0</td><td>3</td><td>0</td></tr>\n",
       "\t<tr><td>43</td><td>0</td><td>341</td><td>0</td><td>3</td><td>0</td></tr>\n",
       "</tbody>\n",
       "</table>\n"
      ],
      "text/latex": [
       "A tibble: 5 × 6\n",
       "\\begin{tabular}{llllll}\n",
       " age & sex & chol & cp & thal & target\\\\\n",
       " <dbl> & <dbl> & <dbl> & <dbl> & <dbl> & <dbl>\\\\\n",
       "\\hline\n",
       "\t 53 & 1 & 203 & 0 & 3 & 0\\\\\n",
       "\t 70 & 1 & 174 & 0 & 3 & 0\\\\\n",
       "\t 61 & 1 & 203 & 0 & 3 & 0\\\\\n",
       "\t 46 & 1 & 249 & 0 & 3 & 0\\\\\n",
       "\t 43 & 0 & 341 & 0 & 3 & 0\\\\\n",
       "\\end{tabular}\n"
      ],
      "text/markdown": [
       "\n",
       "A tibble: 5 × 6\n",
       "\n",
       "| age &lt;dbl&gt; | sex &lt;dbl&gt; | chol &lt;dbl&gt; | cp &lt;dbl&gt; | thal &lt;dbl&gt; | target &lt;dbl&gt; |\n",
       "|---|---|---|---|---|---|\n",
       "| 53 | 1 | 203 | 0 | 3 | 0 |\n",
       "| 70 | 1 | 174 | 0 | 3 | 0 |\n",
       "| 61 | 1 | 203 | 0 | 3 | 0 |\n",
       "| 46 | 1 | 249 | 0 | 3 | 0 |\n",
       "| 43 | 0 | 341 | 0 | 3 | 0 |\n",
       "\n"
      ],
      "text/plain": [
       "  age sex chol cp thal target\n",
       "1 53  1   203  0  3    0     \n",
       "2 70  1   174  0  3    0     \n",
       "3 61  1   203  0  3    0     \n",
       "4 46  1   249  0  3    0     \n",
       "5 43  0   341  0  3    0     "
      ]
     },
     "metadata": {},
     "output_type": "display_data"
    },
    {
     "data": {
      "text/html": [
       "0"
      ],
      "text/latex": [
       "0"
      ],
      "text/markdown": [
       "0"
      ],
      "text/plain": [
       "[1] 0"
      ]
     },
     "metadata": {},
     "output_type": "display_data"
    }
   ],
   "source": [
    "set.seed(3456)\n",
    "\n",
    "heart_split <- initial_split(heart_var, prop = 0.75, strata = target)  \n",
    "heart_train <- training(heart_split)   \n",
    "heart_test <- testing(heart_split)\n",
    "\n",
    "slice(heart_train, 1:5)\n",
    "sum(is.na(heart_train))"
   ]
  },
  {
   "cell_type": "markdown",
   "id": "577c8e11-9ba5-4990-85b8-96f63acb6ce5",
   "metadata": {},
   "source": [
    "From here we began to look at each variable and if there were any trends that could be seen. The \"target\" variable shows whether each person has heart disease which is indicated with a 1, or if they do not have heart disease, 0. To get a better idea of the data we are working with, we visualized the training data into various scatter plot graphs with \"target\" showing heart disease on the x-axis, and the other predictors on the y-axis on separate plots. "
   ]
  },
  {
   "cell_type": "code",
   "execution_count": null,
   "id": "9ba529a0-1eed-47a7-91cc-a6ced7c88031",
   "metadata": {},
   "outputs": [],
   "source": []
  },
  {
   "cell_type": "markdown",
   "id": "15f1ea71-b3ca-4a23-a4ae-9d8bd5d905cf",
   "metadata": {
    "tags": []
   },
   "source": [
    "### Methods:\n",
    "Explain how you will conduct either your data analysis and which variables/columns you will use. \n",
    "Note - you do not need to use all variables/columns that exist in the raw data set. In fact, that's often not a good \n",
    "idea. For each variable think: is this a useful variable for prediction?\n",
    "Describe at least one way that you will visualize the results"
   ]
  },
  {
   "cell_type": "markdown",
   "id": "76b6b2f7-a3da-4841-ae13-1fd78f89ee3e",
   "metadata": {},
   "source": [
    "To predict whether a patient has heart disease, a classifier needs to be taught and trained. This is to increase the accuracy\n",
    "of the classifier. The data will be split into a training set and a testing set in order to build an efficient and accurate model\n",
    "by first using only the training set. This will ensure that the test data does not influence the classifier model being trained.\n",
    "Because the K-nearest neighbors classification algorithm will be used, the value of K to be used must be determined. Performing \n",
    "v-fold cross-validation will determine this. The K value that yields roughly the optimal accuracy, and the value that does not drastically \n",
    "change the estimated accuracy when decreasing or increasing K by a small amount will be the best option. Now, the K-nearest neighbors \n",
    "classifier object will be used to predict the class labels of the test set and predict whether there is a presence of heart disease in the \n",
    "patient. The patient will be evaluated with an integer value of 0 or 1 in the \"target\" field; 0 = no disease; 1 = disease.\n",
    "The variables considered in the data analysis will be: ..."
   ]
  },
  {
   "cell_type": "markdown",
   "id": "e88354be-4109-49ce-af31-40f56df0e882",
   "metadata": {},
   "source": [
    "### Expected outcomes and significance:\n",
    "What do you expect to find?\n",
    "What impact could such findings have?\n",
    "What future questions could this lead to?"
   ]
  },
  {
   "cell_type": "code",
   "execution_count": null,
   "id": "2ab7306c-fce9-45f9-af6c-5c7a549fcf6b",
   "metadata": {},
   "outputs": [],
   "source": []
  }
 ],
 "metadata": {
  "kernelspec": {
   "display_name": "R",
   "language": "R",
   "name": "ir"
  },
  "language_info": {
   "codemirror_mode": "r",
   "file_extension": ".r",
   "mimetype": "text/x-r-source",
   "name": "R",
   "pygments_lexer": "r",
   "version": "4.1.3"
  },
  "toc-autonumbering": false
 },
 "nbformat": 4,
 "nbformat_minor": 5
}
