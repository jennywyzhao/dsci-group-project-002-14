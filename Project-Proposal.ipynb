{
 "cells": [
  {
   "cell_type": "code",
   "execution_count": 18,
   "id": "24535075-2898-4425-bd8d-485246493ed0",
   "metadata": {},
   "outputs": [
    {
     "ename": "ERROR",
     "evalue": "Error in parse(text = x, srcfile = src): <text>:2:0: unexpected end of input\n1: Title:\n   ^\n",
     "output_type": "error",
     "traceback": [
      "Error in parse(text = x, srcfile = src): <text>:2:0: unexpected end of input\n1: Title:\n   ^\nTraceback:\n"
     ]
    }
   ],
   "source": [
    "Title: "
   ]
  },
  {
   "cell_type": "code",
   "execution_count": null,
   "id": "9b7c1d88-b145-499e-a3a5-a975560b7d12",
   "metadata": {},
   "outputs": [],
   "source": [
    "Introduction:\n",
    "Provide some relevant background information on the topic so that someone unfamiliar with it will be prepared to understand the rest of your proposal\n",
    "Clearly state the question you will try to answer with your project\n",
    "Identify and describe the dataset that will be used to answer the question\n",
    " "
   ]
  },
  {
   "cell_type": "code",
   "execution_count": null,
   "id": "559fc757-50a7-40ae-ad59-12df938cf16e",
   "metadata": {},
   "outputs": [],
   "source": [
    "Heart disease is an umbrella term for a vast range of conditions that affect the heart. Stroke, heart attack, cardiomyopathy, and angina are all \n",
    "examples of heart disease. Leading risk factors for heart disease are high blood pressure and cholesterol, obesity, unhealthy diet, and physical inactivity.\n",
    "Based on a dataset from 1988 consisting of 4 databases, Cleveland, Hungary, Switzerland, and Long Beach V, heart disease could be predicted \n",
    "in a patient by looking at 14 attributes. Of these attributes, 5 will be observed in order to successfully determine the presence of heart disease\n",
    "in a patient. The predictive question being asked is, \"By considering -the five attributes-, can heart disease in a patient be predicted?\". It is important \n",
    "to answer this question because heart disease is evidently fatal, and an early diagnosage increases the chances of recovery and/or \n",
    "survival. Though treatment varies based on the type and cause of the disease, changes in lifestyle habits can influence the presence of heart disease significantly.\n",
    "Recognizing even a possibility of a heart disease early on is important for patients, and thus, this project will allow for that early recognition. "
   ]
  },
  {
   "cell_type": "code",
   "execution_count": null,
   "id": "8e1f2f0b-7ec0-443d-8aec-de8d9cc3f696",
   "metadata": {},
   "outputs": [],
   "source": [
    "Preliminary exploratory data analysis:\n",
    "\n",
    "\n",
    "Demonstrate that the dataset can be read from the web into R \n",
    "Clean and wrangle your data into a tidy format\n",
    "Using only training data, summarize the data in at least one table (this is exploratory data analysis). An example of a useful table could be one that reports the number of observations in each class, the means of the predictor variables you plan to use in your analysis and how many rows have missing data. \n",
    "Using only training data, visualize the data with at least one plot relevant to the analysis you plan to do (this is exploratory data analysis). An example of a useful visualization could be one that compares the distributions of each of the predictor variables you plan to use in your analysis."
   ]
  },
  {
   "cell_type": "code",
   "execution_count": null,
   "id": "d83dd354-4922-4e58-98a7-9df0129f212c",
   "metadata": {},
   "outputs": [],
   "source": [
    "library(tidyverse)\n",
    "library(repr)\n",
    "library(tidymodels)\n",
    "\n",
    "\n",
    "heart_data <- read_csv(\"project_data/heart.csv\")\n",
    "slice(heart_data, 1:6)\n",
    "  \n",
    "heart_var <- heart_data |>\n",
    "    select(age, sex, chol, cp, thal, target)\n",
    "slice(heart_var, 1:6)\n",
    "\n",
    "set.seed(3456)\n",
    "heart_split <- initial_split(heart_var, prop = 0.60, strata = target)  \n",
    "heart_train <- training(heart_split)   \n",
    "heart_test <- testing(heart_split)\n",
    "\n",
    "heart_train\n",
    "heart_test"
   ]
  },
  {
   "cell_type": "markdown",
   "id": "c205aead-fddf-4e6b-a589-19890db3d37d",
   "metadata": {
    "tags": []
   },
   "source": [
    "Methods:\n",
    "Explain how you will conduct either your data analysis and which variables/columns you will use. \n",
    "Note - you do not need to use all variables/columns that exist in the raw data set. In fact, that's often not a good \n",
    "idea. For each variable think: is this a useful variable for prediction?\n",
    "Describe at least one way that you will visualize the results"
   ]
  },
  {
   "cell_type": "code",
   "execution_count": null,
   "id": "c9678983-310a-4be5-a391-b7f0dcb8eaf4",
   "metadata": {},
   "outputs": [],
   "source": [
    "To predict whether a patient has heart disease, a classifier needs to be taught and trained. This is to increase the accuracy\n",
    "of the classifier. The data will be split into a training set and a testing set in order to build an efficient and accurate model\n",
    "by first using only the training set. This will ensure that the test data does not influence the classifier model being trained.\n",
    "Because the K-nearest neighbors classification algorithm will be used, the value of K to be used must be determined. Performing \n",
    "v-fold cross-validation will determine this. The K value that yields roughly the optimal accuracy, and the value that does not drastically \n",
    "change the estimated accuracy when decreasing or increasing K by a small amount will be the best option. Now, the K-nearest neighbors \n",
    "classifier object will be used to predict the class labels of the test set and predict whether there is a presence of heart disease in the \n",
    "patient. The patient will be evaluated with an integer value of 0 or 1 in the \"target\" field; 0 = no disease; 1 = disease.\n",
    "The variables considered in the data analysis will be: ..."
   ]
  },
  {
   "cell_type": "code",
   "execution_count": null,
   "id": "6695a588-68db-4a8b-b51c-a5b3734f1f3b",
   "metadata": {},
   "outputs": [],
   "source": [
    "Expected outcomes and significance:\n",
    "What do you expect to find?\n",
    "What impact could such findings have?\n",
    "What future questions could this lead to?"
   ]
  }
 ],
 "metadata": {
  "kernelspec": {
   "display_name": "R",
   "language": "R",
   "name": "ir"
  },
  "language_info": {
   "codemirror_mode": "r",
   "file_extension": ".r",
   "mimetype": "text/x-r-source",
   "name": "R",
   "pygments_lexer": "r",
   "version": "4.1.3"
  },
  "toc-autonumbering": false
 },
 "nbformat": 4,
 "nbformat_minor": 5
}
