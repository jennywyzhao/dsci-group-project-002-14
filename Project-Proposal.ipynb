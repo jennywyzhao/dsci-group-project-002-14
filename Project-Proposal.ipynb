{
 "cells": [
  {
   "cell_type": "code",
   "execution_count": 18,
   "id": "24535075-2898-4425-bd8d-485246493ed0",
   "metadata": {},
   "outputs": [
    {
     "ename": "ERROR",
     "evalue": "Error in parse(text = x, srcfile = src): <text>:2:0: unexpected end of input\n1: Title:\n   ^\n",
     "output_type": "error",
     "traceback": [
      "Error in parse(text = x, srcfile = src): <text>:2:0: unexpected end of input\n1: Title:\n   ^\nTraceback:\n"
     ]
    }
   ],
   "source": [
    "Title:"
   ]
  },
  {
   "cell_type": "code",
   "execution_count": null,
   "id": "9b7c1d88-b145-499e-a3a5-a975560b7d12",
   "metadata": {},
   "outputs": [],
   "source": [
    "Introduction:\n",
    "Provide some relevant background information on the topic so that someone unfamiliar with it will be prepared to understand the rest of your proposal\n",
    "Clearly state the question you will try to answer with your project\n",
    "Identify and describe the dataset that will be used to answer the question\n",
    "\n",
    "Heart disease is an umbrella term for a vast range of conditions that affect the heart. Stroke, heart attack, cardiomyopathy, and angina are examples of "
   ]
  },
  {
   "cell_type": "code",
   "execution_count": null,
   "id": "8e1f2f0b-7ec0-443d-8aec-de8d9cc3f696",
   "metadata": {},
   "outputs": [],
   "source": [
    "Preliminary exploratory data analysis:\n",
    "\n",
    "\n",
    "Demonstrate that the dataset can be read from the web into R \n",
    "Clean and wrangle your data into a tidy format\n",
    "Using only training data, summarize the data in at least one table (this is exploratory data analysis). An example of a useful table could be one that reports the number of observations in each class, the means of the predictor variables you plan to use in your analysis and how many rows have missing data. \n",
    "Using only training data, visualize the data with at least one plot relevant to the analysis you plan to do (this is exploratory data analysis). An example of a useful visualization could be one that compares the distributions of each of the predictor variables you plan to use in your analysis."
   ]
  },
  {
   "cell_type": "code",
   "execution_count": 21,
   "id": "d83dd354-4922-4e58-98a7-9df0129f212c",
   "metadata": {},
   "outputs": [
    {
     "name": "stderr",
     "output_type": "stream",
     "text": [
      "\u001b[1mRows: \u001b[22m\u001b[34m1025\u001b[39m \u001b[1mColumns: \u001b[22m\u001b[34m14\u001b[39m\n",
      "\u001b[36m──\u001b[39m \u001b[1mColumn specification\u001b[22m \u001b[36m────────────────────────────────────────────────────────\u001b[39m\n",
      "\u001b[1mDelimiter:\u001b[22m \",\"\n",
      "\u001b[32mdbl\u001b[39m (14): age, sex, cp, trestbps, chol, fbs, restecg, thalach, exang, oldpea...\n",
      "\n",
      "\u001b[36mℹ\u001b[39m Use `spec()` to retrieve the full column specification for this data.\n",
      "\u001b[36mℹ\u001b[39m Specify the column types or set `show_col_types = FALSE` to quiet this message.\n"
     ]
    },
    {
     "data": {
      "text/html": [
       "<table class=\"dataframe\">\n",
       "<caption>A spec_tbl_df: 6 × 14</caption>\n",
       "<thead>\n",
       "\t<tr><th scope=col>age</th><th scope=col>sex</th><th scope=col>cp</th><th scope=col>trestbps</th><th scope=col>chol</th><th scope=col>fbs</th><th scope=col>restecg</th><th scope=col>thalach</th><th scope=col>exang</th><th scope=col>oldpeak</th><th scope=col>slope</th><th scope=col>ca</th><th scope=col>thal</th><th scope=col>target</th></tr>\n",
       "\t<tr><th scope=col>&lt;dbl&gt;</th><th scope=col>&lt;dbl&gt;</th><th scope=col>&lt;dbl&gt;</th><th scope=col>&lt;dbl&gt;</th><th scope=col>&lt;dbl&gt;</th><th scope=col>&lt;dbl&gt;</th><th scope=col>&lt;dbl&gt;</th><th scope=col>&lt;dbl&gt;</th><th scope=col>&lt;dbl&gt;</th><th scope=col>&lt;dbl&gt;</th><th scope=col>&lt;dbl&gt;</th><th scope=col>&lt;dbl&gt;</th><th scope=col>&lt;dbl&gt;</th><th scope=col>&lt;dbl&gt;</th></tr>\n",
       "</thead>\n",
       "<tbody>\n",
       "\t<tr><td>52</td><td>1</td><td>0</td><td>125</td><td>212</td><td>0</td><td>1</td><td>168</td><td>0</td><td>1.0</td><td>2</td><td>2</td><td>3</td><td>0</td></tr>\n",
       "\t<tr><td>53</td><td>1</td><td>0</td><td>140</td><td>203</td><td>1</td><td>0</td><td>155</td><td>1</td><td>3.1</td><td>0</td><td>0</td><td>3</td><td>0</td></tr>\n",
       "\t<tr><td>70</td><td>1</td><td>0</td><td>145</td><td>174</td><td>0</td><td>1</td><td>125</td><td>1</td><td>2.6</td><td>0</td><td>0</td><td>3</td><td>0</td></tr>\n",
       "\t<tr><td>61</td><td>1</td><td>0</td><td>148</td><td>203</td><td>0</td><td>1</td><td>161</td><td>0</td><td>0.0</td><td>2</td><td>1</td><td>3</td><td>0</td></tr>\n",
       "\t<tr><td>62</td><td>0</td><td>0</td><td>138</td><td>294</td><td>1</td><td>1</td><td>106</td><td>0</td><td>1.9</td><td>1</td><td>3</td><td>2</td><td>0</td></tr>\n",
       "\t<tr><td>58</td><td>0</td><td>0</td><td>100</td><td>248</td><td>0</td><td>0</td><td>122</td><td>0</td><td>1.0</td><td>1</td><td>0</td><td>2</td><td>1</td></tr>\n",
       "</tbody>\n",
       "</table>\n"
      ],
      "text/latex": [
       "A spec\\_tbl\\_df: 6 × 14\n",
       "\\begin{tabular}{llllllllllllll}\n",
       " age & sex & cp & trestbps & chol & fbs & restecg & thalach & exang & oldpeak & slope & ca & thal & target\\\\\n",
       " <dbl> & <dbl> & <dbl> & <dbl> & <dbl> & <dbl> & <dbl> & <dbl> & <dbl> & <dbl> & <dbl> & <dbl> & <dbl> & <dbl>\\\\\n",
       "\\hline\n",
       "\t 52 & 1 & 0 & 125 & 212 & 0 & 1 & 168 & 0 & 1.0 & 2 & 2 & 3 & 0\\\\\n",
       "\t 53 & 1 & 0 & 140 & 203 & 1 & 0 & 155 & 1 & 3.1 & 0 & 0 & 3 & 0\\\\\n",
       "\t 70 & 1 & 0 & 145 & 174 & 0 & 1 & 125 & 1 & 2.6 & 0 & 0 & 3 & 0\\\\\n",
       "\t 61 & 1 & 0 & 148 & 203 & 0 & 1 & 161 & 0 & 0.0 & 2 & 1 & 3 & 0\\\\\n",
       "\t 62 & 0 & 0 & 138 & 294 & 1 & 1 & 106 & 0 & 1.9 & 1 & 3 & 2 & 0\\\\\n",
       "\t 58 & 0 & 0 & 100 & 248 & 0 & 0 & 122 & 0 & 1.0 & 1 & 0 & 2 & 1\\\\\n",
       "\\end{tabular}\n"
      ],
      "text/markdown": [
       "\n",
       "A spec_tbl_df: 6 × 14\n",
       "\n",
       "| age &lt;dbl&gt; | sex &lt;dbl&gt; | cp &lt;dbl&gt; | trestbps &lt;dbl&gt; | chol &lt;dbl&gt; | fbs &lt;dbl&gt; | restecg &lt;dbl&gt; | thalach &lt;dbl&gt; | exang &lt;dbl&gt; | oldpeak &lt;dbl&gt; | slope &lt;dbl&gt; | ca &lt;dbl&gt; | thal &lt;dbl&gt; | target &lt;dbl&gt; |\n",
       "|---|---|---|---|---|---|---|---|---|---|---|---|---|---|\n",
       "| 52 | 1 | 0 | 125 | 212 | 0 | 1 | 168 | 0 | 1.0 | 2 | 2 | 3 | 0 |\n",
       "| 53 | 1 | 0 | 140 | 203 | 1 | 0 | 155 | 1 | 3.1 | 0 | 0 | 3 | 0 |\n",
       "| 70 | 1 | 0 | 145 | 174 | 0 | 1 | 125 | 1 | 2.6 | 0 | 0 | 3 | 0 |\n",
       "| 61 | 1 | 0 | 148 | 203 | 0 | 1 | 161 | 0 | 0.0 | 2 | 1 | 3 | 0 |\n",
       "| 62 | 0 | 0 | 138 | 294 | 1 | 1 | 106 | 0 | 1.9 | 1 | 3 | 2 | 0 |\n",
       "| 58 | 0 | 0 | 100 | 248 | 0 | 0 | 122 | 0 | 1.0 | 1 | 0 | 2 | 1 |\n",
       "\n"
      ],
      "text/plain": [
       "  age sex cp trestbps chol fbs restecg thalach exang oldpeak slope ca thal\n",
       "1 52  1   0  125      212  0   1       168     0     1.0     2     2  3   \n",
       "2 53  1   0  140      203  1   0       155     1     3.1     0     0  3   \n",
       "3 70  1   0  145      174  0   1       125     1     2.6     0     0  3   \n",
       "4 61  1   0  148      203  0   1       161     0     0.0     2     1  3   \n",
       "5 62  0   0  138      294  1   1       106     0     1.9     1     3  2   \n",
       "6 58  0   0  100      248  0   0       122     0     1.0     1     0  2   \n",
       "  target\n",
       "1 0     \n",
       "2 0     \n",
       "3 0     \n",
       "4 0     \n",
       "5 0     \n",
       "6 1     "
      ]
     },
     "metadata": {},
     "output_type": "display_data"
    }
   ],
   "source": [
    "library(readr)\n",
    "library(dplyr)\n",
    "\n",
    "heart_data <- read_csv(\"project_data/heart.csv\")\n",
    "slice(heart_data, 1:6)\n"
   ]
  },
  {
   "cell_type": "code",
   "execution_count": null,
   "id": "a8d50d77-69b5-41ca-8bf9-84a69d1ae496",
   "metadata": {
    "tags": []
   },
   "outputs": [],
   "source": [
    "Methods:\n",
    "Explain how you will conduct either your data analysis and which variables/columns you will use. Note - you do not need to use all variables/columns that exist in the raw data set. In fact, that's often not a good idea. For each variable think: is this a useful variable for prediction?\n",
    "Describe at least one way that you will visualize the results\n",
    "\n",
    "cp, trestbps (resting blood pressure), exang (exercise enduced angina), "
   ]
  },
  {
   "cell_type": "code",
   "execution_count": null,
   "id": "6695a588-68db-4a8b-b51c-a5b3734f1f3b",
   "metadata": {},
   "outputs": [],
   "source": [
    "Expected outcomes and significance:\n",
    "What do you expect to find?\n",
    "What impact could such findings have?\n",
    "What future questions could this lead to?"
   ]
  }
 ],
 "metadata": {
  "kernelspec": {
   "display_name": "R",
   "language": "R",
   "name": "ir"
  },
  "language_info": {
   "codemirror_mode": "r",
   "file_extension": ".r",
   "mimetype": "text/x-r-source",
   "name": "R",
   "pygments_lexer": "r",
   "version": "4.1.3"
  },
  "toc-autonumbering": false
 },
 "nbformat": 4,
 "nbformat_minor": 5
}
